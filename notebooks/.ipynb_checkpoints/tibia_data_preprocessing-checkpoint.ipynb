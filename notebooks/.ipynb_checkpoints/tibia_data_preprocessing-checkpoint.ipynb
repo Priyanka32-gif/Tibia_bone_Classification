{
 "cells": [
  {
   "cell_type": "markdown",
   "id": "bbe037ec-9670-41d7-bf05-d3fcfd82891e",
   "metadata": {},
   "source": [
    "# Data preprocessing on Tibia data"
   ]
  },
  {
   "cell_type": "code",
   "execution_count": 1,
   "id": "ddbbe9d1-ff55-4d06-9940-e739b0d3aa46",
   "metadata": {},
   "outputs": [],
   "source": [
    "# import needed libraries\n",
    "import numpy as np\n",
    "import pandas as pd\n",
    "import matplotlib.pyplot as plt\n",
    "import seaborn as sns"
   ]
  },
  {
   "cell_type": "code",
   "execution_count": 2,
   "id": "0efaf890-1ca3-495c-91d4-31bd10cbd834",
   "metadata": {},
   "outputs": [],
   "source": [
    "from sklearn.feature_selection import VarianceThreshold\n",
    "from sklearn.feature_selection import mutual_info_classif\n",
    "from sklearn.preprocessing import StandardScaler\n",
    "from sklearn.decomposition import PCA"
   ]
  },
  {
   "cell_type": "code",
   "execution_count": 3,
   "id": "2fb16774-ea05-4eb1-a88c-ef303f160cca",
   "metadata": {},
   "outputs": [],
   "source": [
    "# load test data\n",
    "train_data = pd.read_csv('../data_file/train_set.csv')"
   ]
  },
  {
   "cell_type": "code",
   "execution_count": 75,
   "id": "d30a7bb4-98ef-48f1-afdb-bf3461bcedaa",
   "metadata": {},
   "outputs": [],
   "source": [
    "# load test set and blinded test set\n",
    "test_data = pd.read_csv('../data_file/test_set.csv')\n",
    "blinded_data = pd.read_csv('../data_file/blinded_test_set.csv')"
   ]
  },
  {
   "cell_type": "code",
   "execution_count": 5,
   "id": "6827173a-69ed-494f-84e2-b22048e24943",
   "metadata": {
    "scrolled": true
   },
   "outputs": [
    {
     "data": {
      "text/html": [
       "<div>\n",
       "<style scoped>\n",
       "    .dataframe tbody tr th:only-of-type {\n",
       "        vertical-align: middle;\n",
       "    }\n",
       "\n",
       "    .dataframe tbody tr th {\n",
       "        vertical-align: top;\n",
       "    }\n",
       "\n",
       "    .dataframe thead th {\n",
       "        text-align: right;\n",
       "    }\n",
       "</style>\n",
       "<table border=\"1\" class=\"dataframe\">\n",
       "  <thead>\n",
       "    <tr style=\"text-align: right;\">\n",
       "      <th></th>\n",
       "      <th>ID</th>\n",
       "      <th>Feature_1</th>\n",
       "      <th>Feature_2</th>\n",
       "      <th>Feature_3</th>\n",
       "      <th>Feature_4</th>\n",
       "      <th>Feature_5</th>\n",
       "      <th>Feature_6</th>\n",
       "      <th>Feature_7</th>\n",
       "      <th>Feature_8</th>\n",
       "      <th>Feature_9</th>\n",
       "      <th>...</th>\n",
       "      <th>Feature_3230</th>\n",
       "      <th>Feature_3231</th>\n",
       "      <th>Feature_3232</th>\n",
       "      <th>Feature_3233</th>\n",
       "      <th>Feature_3234</th>\n",
       "      <th>Feature_3235</th>\n",
       "      <th>Feature_3236</th>\n",
       "      <th>Feature_3237</th>\n",
       "      <th>Feature_3238</th>\n",
       "      <th>CLASS</th>\n",
       "    </tr>\n",
       "  </thead>\n",
       "  <tbody>\n",
       "    <tr>\n",
       "      <th>0</th>\n",
       "      <td>ID_1</td>\n",
       "      <td>18281.541667</td>\n",
       "      <td>18432.0</td>\n",
       "      <td>9409.650391</td>\n",
       "      <td>0.514708</td>\n",
       "      <td>0.011300</td>\n",
       "      <td>0.045369</td>\n",
       "      <td>2.803803</td>\n",
       "      <td>0.356658</td>\n",
       "      <td>1.803803</td>\n",
       "      <td>...</td>\n",
       "      <td>382.968383</td>\n",
       "      <td>2214.0</td>\n",
       "      <td>1.0</td>\n",
       "      <td>136.625113</td>\n",
       "      <td>0.061710</td>\n",
       "      <td>0.0</td>\n",
       "      <td>28.154838</td>\n",
       "      <td>4.174959</td>\n",
       "      <td>0.061710</td>\n",
       "      <td>0</td>\n",
       "    </tr>\n",
       "    <tr>\n",
       "      <th>1</th>\n",
       "      <td>ID_2</td>\n",
       "      <td>20010.083333</td>\n",
       "      <td>20100.0</td>\n",
       "      <td>8303.049072</td>\n",
       "      <td>0.417707</td>\n",
       "      <td>0.014959</td>\n",
       "      <td>0.080294</td>\n",
       "      <td>2.338398</td>\n",
       "      <td>0.429532</td>\n",
       "      <td>1.338398</td>\n",
       "      <td>...</td>\n",
       "      <td>452.986164</td>\n",
       "      <td>2548.5</td>\n",
       "      <td>1.0</td>\n",
       "      <td>232.564022</td>\n",
       "      <td>0.090548</td>\n",
       "      <td>0.0</td>\n",
       "      <td>27.934229</td>\n",
       "      <td>3.931950</td>\n",
       "      <td>0.090548</td>\n",
       "      <td>1</td>\n",
       "    </tr>\n",
       "    <tr>\n",
       "      <th>2</th>\n",
       "      <td>ID_3</td>\n",
       "      <td>27260.125000</td>\n",
       "      <td>27437.0</td>\n",
       "      <td>12189.649414</td>\n",
       "      <td>0.447160</td>\n",
       "      <td>0.011428</td>\n",
       "      <td>0.046402</td>\n",
       "      <td>2.782842</td>\n",
       "      <td>0.359345</td>\n",
       "      <td>1.782842</td>\n",
       "      <td>...</td>\n",
       "      <td>419.781765</td>\n",
       "      <td>3400.0</td>\n",
       "      <td>1.0</td>\n",
       "      <td>233.593529</td>\n",
       "      <td>0.068704</td>\n",
       "      <td>0.0</td>\n",
       "      <td>27.904807</td>\n",
       "      <td>4.085035</td>\n",
       "      <td>0.068704</td>\n",
       "      <td>1</td>\n",
       "    </tr>\n",
       "    <tr>\n",
       "      <th>3</th>\n",
       "      <td>ID_4</td>\n",
       "      <td>41938.125000</td>\n",
       "      <td>42138.0</td>\n",
       "      <td>17866.433594</td>\n",
       "      <td>0.426019</td>\n",
       "      <td>0.009908</td>\n",
       "      <td>0.034878</td>\n",
       "      <td>3.060655</td>\n",
       "      <td>0.326727</td>\n",
       "      <td>2.060655</td>\n",
       "      <td>...</td>\n",
       "      <td>439.023968</td>\n",
       "      <td>5424.0</td>\n",
       "      <td>1.0</td>\n",
       "      <td>427.429572</td>\n",
       "      <td>0.078803</td>\n",
       "      <td>0.0</td>\n",
       "      <td>27.870588</td>\n",
       "      <td>4.011726</td>\n",
       "      <td>0.078803</td>\n",
       "      <td>0</td>\n",
       "    </tr>\n",
       "    <tr>\n",
       "      <th>4</th>\n",
       "      <td>ID_5</td>\n",
       "      <td>41274.125000</td>\n",
       "      <td>41439.0</td>\n",
       "      <td>14315.041992</td>\n",
       "      <td>0.346828</td>\n",
       "      <td>0.013596</td>\n",
       "      <td>0.065680</td>\n",
       "      <td>2.478506</td>\n",
       "      <td>0.403469</td>\n",
       "      <td>1.478506</td>\n",
       "      <td>...</td>\n",
       "      <td>485.209184</td>\n",
       "      <td>5096.0</td>\n",
       "      <td>1.0</td>\n",
       "      <td>726.731554</td>\n",
       "      <td>0.142608</td>\n",
       "      <td>0.0</td>\n",
       "      <td>28.846909</td>\n",
       "      <td>3.571352</td>\n",
       "      <td>0.142608</td>\n",
       "      <td>0</td>\n",
       "    </tr>\n",
       "    <tr>\n",
       "      <th>...</th>\n",
       "      <td>...</td>\n",
       "      <td>...</td>\n",
       "      <td>...</td>\n",
       "      <td>...</td>\n",
       "      <td>...</td>\n",
       "      <td>...</td>\n",
       "      <td>...</td>\n",
       "      <td>...</td>\n",
       "      <td>...</td>\n",
       "      <td>...</td>\n",
       "      <td>...</td>\n",
       "      <td>...</td>\n",
       "      <td>...</td>\n",
       "      <td>...</td>\n",
       "      <td>...</td>\n",
       "      <td>...</td>\n",
       "      <td>...</td>\n",
       "      <td>...</td>\n",
       "      <td>...</td>\n",
       "      <td>...</td>\n",
       "      <td>...</td>\n",
       "    </tr>\n",
       "    <tr>\n",
       "      <th>310</th>\n",
       "      <td>ID_311</td>\n",
       "      <td>46787.916667</td>\n",
       "      <td>47002.0</td>\n",
       "      <td>18052.070312</td>\n",
       "      <td>0.385828</td>\n",
       "      <td>0.010883</td>\n",
       "      <td>0.042086</td>\n",
       "      <td>2.874885</td>\n",
       "      <td>0.347840</td>\n",
       "      <td>1.874885</td>\n",
       "      <td>...</td>\n",
       "      <td>466.276055</td>\n",
       "      <td>6064.0</td>\n",
       "      <td>1.0</td>\n",
       "      <td>585.547823</td>\n",
       "      <td>0.096561</td>\n",
       "      <td>0.0</td>\n",
       "      <td>28.787507</td>\n",
       "      <td>3.894684</td>\n",
       "      <td>0.096561</td>\n",
       "      <td>0</td>\n",
       "    </tr>\n",
       "    <tr>\n",
       "      <th>311</th>\n",
       "      <td>ID_312</td>\n",
       "      <td>8420.354167</td>\n",
       "      <td>8493.0</td>\n",
       "      <td>4292.039795</td>\n",
       "      <td>0.510004</td>\n",
       "      <td>0.016911</td>\n",
       "      <td>0.101797</td>\n",
       "      <td>2.145061</td>\n",
       "      <td>0.466555</td>\n",
       "      <td>1.145061</td>\n",
       "      <td>...</td>\n",
       "      <td>383.044821</td>\n",
       "      <td>987.0</td>\n",
       "      <td>1.0</td>\n",
       "      <td>69.155790</td>\n",
       "      <td>0.070369</td>\n",
       "      <td>0.0</td>\n",
       "      <td>29.625473</td>\n",
       "      <td>4.098452</td>\n",
       "      <td>0.070369</td>\n",
       "      <td>1</td>\n",
       "    </tr>\n",
       "    <tr>\n",
       "      <th>312</th>\n",
       "      <td>ID_313</td>\n",
       "      <td>37262.750000</td>\n",
       "      <td>37407.0</td>\n",
       "      <td>13950.793945</td>\n",
       "      <td>0.374390</td>\n",
       "      <td>0.012759</td>\n",
       "      <td>0.057837</td>\n",
       "      <td>2.585819</td>\n",
       "      <td>0.386725</td>\n",
       "      <td>1.585819</td>\n",
       "      <td>...</td>\n",
       "      <td>469.005263</td>\n",
       "      <td>4940.0</td>\n",
       "      <td>1.0</td>\n",
       "      <td>505.566802</td>\n",
       "      <td>0.102341</td>\n",
       "      <td>0.0</td>\n",
       "      <td>26.865256</td>\n",
       "      <td>3.815115</td>\n",
       "      <td>0.102341</td>\n",
       "      <td>0</td>\n",
       "    </tr>\n",
       "    <tr>\n",
       "      <th>313</th>\n",
       "      <td>ID_314</td>\n",
       "      <td>25081.833333</td>\n",
       "      <td>25251.0</td>\n",
       "      <td>11689.275391</td>\n",
       "      <td>0.466045</td>\n",
       "      <td>0.011197</td>\n",
       "      <td>0.044546</td>\n",
       "      <td>2.820962</td>\n",
       "      <td>0.354489</td>\n",
       "      <td>1.820962</td>\n",
       "      <td>...</td>\n",
       "      <td>403.597826</td>\n",
       "      <td>2944.0</td>\n",
       "      <td>1.0</td>\n",
       "      <td>215.172554</td>\n",
       "      <td>0.073089</td>\n",
       "      <td>0.0</td>\n",
       "      <td>29.180584</td>\n",
       "      <td>4.055504</td>\n",
       "      <td>0.073089</td>\n",
       "      <td>1</td>\n",
       "    </tr>\n",
       "    <tr>\n",
       "      <th>314</th>\n",
       "      <td>ID_315</td>\n",
       "      <td>52925.083333</td>\n",
       "      <td>53137.0</td>\n",
       "      <td>19790.341797</td>\n",
       "      <td>0.373931</td>\n",
       "      <td>0.010725</td>\n",
       "      <td>0.040871</td>\n",
       "      <td>2.903096</td>\n",
       "      <td>0.344460</td>\n",
       "      <td>1.903096</td>\n",
       "      <td>...</td>\n",
       "      <td>479.596830</td>\n",
       "      <td>6625.0</td>\n",
       "      <td>1.0</td>\n",
       "      <td>789.191094</td>\n",
       "      <td>0.119123</td>\n",
       "      <td>0.0</td>\n",
       "      <td>29.689509</td>\n",
       "      <td>3.765621</td>\n",
       "      <td>0.119123</td>\n",
       "      <td>0</td>\n",
       "    </tr>\n",
       "  </tbody>\n",
       "</table>\n",
       "<p>315 rows × 3240 columns</p>\n",
       "</div>"
      ],
      "text/plain": [
       "         ID     Feature_1  Feature_2     Feature_3  Feature_4  Feature_5  \\\n",
       "0      ID_1  18281.541667    18432.0   9409.650391   0.514708   0.011300   \n",
       "1      ID_2  20010.083333    20100.0   8303.049072   0.417707   0.014959   \n",
       "2      ID_3  27260.125000    27437.0  12189.649414   0.447160   0.011428   \n",
       "3      ID_4  41938.125000    42138.0  17866.433594   0.426019   0.009908   \n",
       "4      ID_5  41274.125000    41439.0  14315.041992   0.346828   0.013596   \n",
       "..      ...           ...        ...           ...        ...        ...   \n",
       "310  ID_311  46787.916667    47002.0  18052.070312   0.385828   0.010883   \n",
       "311  ID_312   8420.354167     8493.0   4292.039795   0.510004   0.016911   \n",
       "312  ID_313  37262.750000    37407.0  13950.793945   0.374390   0.012759   \n",
       "313  ID_314  25081.833333    25251.0  11689.275391   0.466045   0.011197   \n",
       "314  ID_315  52925.083333    53137.0  19790.341797   0.373931   0.010725   \n",
       "\n",
       "     Feature_6  Feature_7  Feature_8  Feature_9  ...  Feature_3230  \\\n",
       "0     0.045369   2.803803   0.356658   1.803803  ...    382.968383   \n",
       "1     0.080294   2.338398   0.429532   1.338398  ...    452.986164   \n",
       "2     0.046402   2.782842   0.359345   1.782842  ...    419.781765   \n",
       "3     0.034878   3.060655   0.326727   2.060655  ...    439.023968   \n",
       "4     0.065680   2.478506   0.403469   1.478506  ...    485.209184   \n",
       "..         ...        ...        ...        ...  ...           ...   \n",
       "310   0.042086   2.874885   0.347840   1.874885  ...    466.276055   \n",
       "311   0.101797   2.145061   0.466555   1.145061  ...    383.044821   \n",
       "312   0.057837   2.585819   0.386725   1.585819  ...    469.005263   \n",
       "313   0.044546   2.820962   0.354489   1.820962  ...    403.597826   \n",
       "314   0.040871   2.903096   0.344460   1.903096  ...    479.596830   \n",
       "\n",
       "     Feature_3231  Feature_3232  Feature_3233  Feature_3234  Feature_3235  \\\n",
       "0          2214.0           1.0    136.625113      0.061710           0.0   \n",
       "1          2548.5           1.0    232.564022      0.090548           0.0   \n",
       "2          3400.0           1.0    233.593529      0.068704           0.0   \n",
       "3          5424.0           1.0    427.429572      0.078803           0.0   \n",
       "4          5096.0           1.0    726.731554      0.142608           0.0   \n",
       "..            ...           ...           ...           ...           ...   \n",
       "310        6064.0           1.0    585.547823      0.096561           0.0   \n",
       "311         987.0           1.0     69.155790      0.070369           0.0   \n",
       "312        4940.0           1.0    505.566802      0.102341           0.0   \n",
       "313        2944.0           1.0    215.172554      0.073089           0.0   \n",
       "314        6625.0           1.0    789.191094      0.119123           0.0   \n",
       "\n",
       "     Feature_3236  Feature_3237  Feature_3238  CLASS  \n",
       "0       28.154838      4.174959      0.061710      0  \n",
       "1       27.934229      3.931950      0.090548      1  \n",
       "2       27.904807      4.085035      0.068704      1  \n",
       "3       27.870588      4.011726      0.078803      0  \n",
       "4       28.846909      3.571352      0.142608      0  \n",
       "..            ...           ...           ...    ...  \n",
       "310     28.787507      3.894684      0.096561      0  \n",
       "311     29.625473      4.098452      0.070369      1  \n",
       "312     26.865256      3.815115      0.102341      0  \n",
       "313     29.180584      4.055504      0.073089      1  \n",
       "314     29.689509      3.765621      0.119123      0  \n",
       "\n",
       "[315 rows x 3240 columns]"
      ]
     },
     "execution_count": 5,
     "metadata": {},
     "output_type": "execute_result"
    }
   ],
   "source": [
    "# print test data\n",
    "train_data"
   ]
  },
  {
   "cell_type": "code",
   "execution_count": 6,
   "id": "b82b4d55-36fb-44c2-a38a-92ca33f08c72",
   "metadata": {},
   "outputs": [],
   "source": [
    "train_data= train_data.drop(columns=['ID'])  # 'ID' has no predictive value"
   ]
  },
  {
   "cell_type": "code",
   "execution_count": 7,
   "id": "428dd307-13b0-4853-b93b-6ac47ea1e7c4",
   "metadata": {},
   "outputs": [
    {
     "name": "stdout",
     "output_type": "stream",
     "text": [
      "<class 'pandas.core.frame.DataFrame'>\n",
      "RangeIndex: 315 entries, 0 to 314\n",
      "Columns: 3239 entries, Feature_1 to CLASS\n",
      "dtypes: float64(3238), int64(1)\n",
      "memory usage: 7.8 MB\n"
     ]
    }
   ],
   "source": [
    "# get test_data info\n",
    "train_data.info()"
   ]
  },
  {
   "cell_type": "code",
   "execution_count": 9,
   "id": "7317c17b-6049-456f-9f39-84f079269482",
   "metadata": {},
   "outputs": [
    {
     "name": "stderr",
     "output_type": "stream",
     "text": [
      "C:\\Users\\User\\miniconda3\\Lib\\site-packages\\pandas\\core\\nanops.py:1016: RuntimeWarning: invalid value encountered in subtract\n",
      "  sqr = _ensure_numeric((avg - values) ** 2)\n",
      "C:\\Users\\User\\miniconda3\\Lib\\site-packages\\pandas\\core\\nanops.py:1016: RuntimeWarning: invalid value encountered in subtract\n",
      "  sqr = _ensure_numeric((avg - values) ** 2)\n"
     ]
    },
    {
     "data": {
      "text/html": [
       "<div>\n",
       "<style scoped>\n",
       "    .dataframe tbody tr th:only-of-type {\n",
       "        vertical-align: middle;\n",
       "    }\n",
       "\n",
       "    .dataframe tbody tr th {\n",
       "        vertical-align: top;\n",
       "    }\n",
       "\n",
       "    .dataframe thead th {\n",
       "        text-align: right;\n",
       "    }\n",
       "</style>\n",
       "<table border=\"1\" class=\"dataframe\">\n",
       "  <thead>\n",
       "    <tr style=\"text-align: right;\">\n",
       "      <th></th>\n",
       "      <th>Feature_1</th>\n",
       "      <th>Feature_2</th>\n",
       "      <th>Feature_3</th>\n",
       "      <th>Feature_4</th>\n",
       "      <th>Feature_5</th>\n",
       "      <th>Feature_6</th>\n",
       "      <th>Feature_7</th>\n",
       "      <th>Feature_8</th>\n",
       "      <th>Feature_9</th>\n",
       "      <th>Feature_10</th>\n",
       "      <th>...</th>\n",
       "      <th>Feature_3230</th>\n",
       "      <th>Feature_3231</th>\n",
       "      <th>Feature_3232</th>\n",
       "      <th>Feature_3233</th>\n",
       "      <th>Feature_3234</th>\n",
       "      <th>Feature_3235</th>\n",
       "      <th>Feature_3236</th>\n",
       "      <th>Feature_3237</th>\n",
       "      <th>Feature_3238</th>\n",
       "      <th>CLASS</th>\n",
       "    </tr>\n",
       "  </thead>\n",
       "  <tbody>\n",
       "    <tr>\n",
       "      <th>count</th>\n",
       "      <td>315.000000</td>\n",
       "      <td>315.000000</td>\n",
       "      <td>315.000000</td>\n",
       "      <td>315.000000</td>\n",
       "      <td>315.000000</td>\n",
       "      <td>315.000000</td>\n",
       "      <td>315.000000</td>\n",
       "      <td>315.000000</td>\n",
       "      <td>315.000000</td>\n",
       "      <td>315.000000</td>\n",
       "      <td>...</td>\n",
       "      <td>315.000000</td>\n",
       "      <td>315.000000</td>\n",
       "      <td>315.0</td>\n",
       "      <td>315.000000</td>\n",
       "      <td>315.000000</td>\n",
       "      <td>315.0</td>\n",
       "      <td>315.000000</td>\n",
       "      <td>315.000000</td>\n",
       "      <td>315.000000</td>\n",
       "      <td>315.000000</td>\n",
       "    </tr>\n",
       "    <tr>\n",
       "      <th>mean</th>\n",
       "      <td>36401.611839</td>\n",
       "      <td>36558.978836</td>\n",
       "      <td>13421.797935</td>\n",
       "      <td>0.399783</td>\n",
       "      <td>0.013326</td>\n",
       "      <td>0.066770</td>\n",
       "      <td>2.572654</td>\n",
       "      <td>0.395949</td>\n",
       "      <td>1.572654</td>\n",
       "      <td>355.140036</td>\n",
       "      <td>...</td>\n",
       "      <td>458.273347</td>\n",
       "      <td>4580.805291</td>\n",
       "      <td>1.0</td>\n",
       "      <td>620.374167</td>\n",
       "      <td>0.112015</td>\n",
       "      <td>0.0</td>\n",
       "      <td>28.510670</td>\n",
       "      <td>3.792381</td>\n",
       "      <td>0.112015</td>\n",
       "      <td>0.393651</td>\n",
       "    </tr>\n",
       "    <tr>\n",
       "      <th>std</th>\n",
       "      <td>23979.228698</td>\n",
       "      <td>24006.711019</td>\n",
       "      <td>5229.346354</td>\n",
       "      <td>0.064272</td>\n",
       "      <td>0.002885</td>\n",
       "      <td>0.034442</td>\n",
       "      <td>0.305500</td>\n",
       "      <td>0.054492</td>\n",
       "      <td>0.305500</td>\n",
       "      <td>5460.014132</td>\n",
       "      <td>...</td>\n",
       "      <td>39.628050</td>\n",
       "      <td>2980.121623</td>\n",
       "      <td>0.0</td>\n",
       "      <td>1254.417871</td>\n",
       "      <td>0.043563</td>\n",
       "      <td>0.0</td>\n",
       "      <td>1.711272</td>\n",
       "      <td>0.257607</td>\n",
       "      <td>0.043563</td>\n",
       "      <td>0.489336</td>\n",
       "    </tr>\n",
       "    <tr>\n",
       "      <th>min</th>\n",
       "      <td>4601.166667</td>\n",
       "      <td>4646.000000</td>\n",
       "      <td>2420.351481</td>\n",
       "      <td>0.137726</td>\n",
       "      <td>0.008904</td>\n",
       "      <td>0.028169</td>\n",
       "      <td>1.684709</td>\n",
       "      <td>0.304269</td>\n",
       "      <td>0.684709</td>\n",
       "      <td>1.262551</td>\n",
       "      <td>...</td>\n",
       "      <td>309.374029</td>\n",
       "      <td>591.333333</td>\n",
       "      <td>1.0</td>\n",
       "      <td>45.791124</td>\n",
       "      <td>0.058477</td>\n",
       "      <td>0.0</td>\n",
       "      <td>16.430985</td>\n",
       "      <td>1.995746</td>\n",
       "      <td>0.058477</td>\n",
       "      <td>0.000000</td>\n",
       "    </tr>\n",
       "    <tr>\n",
       "      <th>25%</th>\n",
       "      <td>23287.562500</td>\n",
       "      <td>23443.500000</td>\n",
       "      <td>10245.704590</td>\n",
       "      <td>0.357646</td>\n",
       "      <td>0.011459</td>\n",
       "      <td>0.046652</td>\n",
       "      <td>2.403035</td>\n",
       "      <td>0.359990</td>\n",
       "      <td>1.403035</td>\n",
       "      <td>14.214779</td>\n",
       "      <td>...</td>\n",
       "      <td>432.298489</td>\n",
       "      <td>2881.000000</td>\n",
       "      <td>1.0</td>\n",
       "      <td>245.299821</td>\n",
       "      <td>0.083622</td>\n",
       "      <td>0.0</td>\n",
       "      <td>27.691774</td>\n",
       "      <td>3.655440</td>\n",
       "      <td>0.083622</td>\n",
       "      <td>0.000000</td>\n",
       "    </tr>\n",
       "    <tr>\n",
       "      <th>50%</th>\n",
       "      <td>34818.166667</td>\n",
       "      <td>35028.000000</td>\n",
       "      <td>13894.792969</td>\n",
       "      <td>0.394076</td>\n",
       "      <td>0.012477</td>\n",
       "      <td>0.055314</td>\n",
       "      <td>2.624547</td>\n",
       "      <td>0.381018</td>\n",
       "      <td>1.624547</td>\n",
       "      <td>24.110200</td>\n",
       "      <td>...</td>\n",
       "      <td>460.598280</td>\n",
       "      <td>4377.000000</td>\n",
       "      <td>1.0</td>\n",
       "      <td>424.561776</td>\n",
       "      <td>0.103960</td>\n",
       "      <td>0.0</td>\n",
       "      <td>28.424340</td>\n",
       "      <td>3.815115</td>\n",
       "      <td>0.103960</td>\n",
       "      <td>0.000000</td>\n",
       "    </tr>\n",
       "    <tr>\n",
       "      <th>75%</th>\n",
       "      <td>45575.708333</td>\n",
       "      <td>45750.000000</td>\n",
       "      <td>16633.839844</td>\n",
       "      <td>0.434799</td>\n",
       "      <td>0.014242</td>\n",
       "      <td>0.072065</td>\n",
       "      <td>2.777867</td>\n",
       "      <td>0.416141</td>\n",
       "      <td>1.777867</td>\n",
       "      <td>43.724701</td>\n",
       "      <td>...</td>\n",
       "      <td>484.566083</td>\n",
       "      <td>5769.000000</td>\n",
       "      <td>1.0</td>\n",
       "      <td>702.791528</td>\n",
       "      <td>0.131579</td>\n",
       "      <td>0.0</td>\n",
       "      <td>29.450389</td>\n",
       "      <td>3.963320</td>\n",
       "      <td>0.131579</td>\n",
       "      <td>1.000000</td>\n",
       "    </tr>\n",
       "    <tr>\n",
       "      <th>max</th>\n",
       "      <td>332120.750000</td>\n",
       "      <td>332379.000000</td>\n",
       "      <td>45741.601562</td>\n",
       "      <td>0.643473</td>\n",
       "      <td>0.025418</td>\n",
       "      <td>0.266032</td>\n",
       "      <td>3.286567</td>\n",
       "      <td>0.603905</td>\n",
       "      <td>2.286567</td>\n",
       "      <td>96940.788837</td>\n",
       "      <td>...</td>\n",
       "      <td>636.069588</td>\n",
       "      <td>40797.000000</td>\n",
       "      <td>1.0</td>\n",
       "      <td>20921.640194</td>\n",
       "      <td>0.512823</td>\n",
       "      <td>0.0</td>\n",
       "      <td>35.149153</td>\n",
       "      <td>4.271132</td>\n",
       "      <td>0.512823</td>\n",
       "      <td>1.000000</td>\n",
       "    </tr>\n",
       "  </tbody>\n",
       "</table>\n",
       "<p>8 rows × 3239 columns</p>\n",
       "</div>"
      ],
      "text/plain": [
       "           Feature_1      Feature_2     Feature_3   Feature_4   Feature_5  \\\n",
       "count     315.000000     315.000000    315.000000  315.000000  315.000000   \n",
       "mean    36401.611839   36558.978836  13421.797935    0.399783    0.013326   \n",
       "std     23979.228698   24006.711019   5229.346354    0.064272    0.002885   \n",
       "min      4601.166667    4646.000000   2420.351481    0.137726    0.008904   \n",
       "25%     23287.562500   23443.500000  10245.704590    0.357646    0.011459   \n",
       "50%     34818.166667   35028.000000  13894.792969    0.394076    0.012477   \n",
       "75%     45575.708333   45750.000000  16633.839844    0.434799    0.014242   \n",
       "max    332120.750000  332379.000000  45741.601562    0.643473    0.025418   \n",
       "\n",
       "        Feature_6   Feature_7   Feature_8   Feature_9    Feature_10  ...  \\\n",
       "count  315.000000  315.000000  315.000000  315.000000    315.000000  ...   \n",
       "mean     0.066770    2.572654    0.395949    1.572654    355.140036  ...   \n",
       "std      0.034442    0.305500    0.054492    0.305500   5460.014132  ...   \n",
       "min      0.028169    1.684709    0.304269    0.684709      1.262551  ...   \n",
       "25%      0.046652    2.403035    0.359990    1.403035     14.214779  ...   \n",
       "50%      0.055314    2.624547    0.381018    1.624547     24.110200  ...   \n",
       "75%      0.072065    2.777867    0.416141    1.777867     43.724701  ...   \n",
       "max      0.266032    3.286567    0.603905    2.286567  96940.788837  ...   \n",
       "\n",
       "       Feature_3230  Feature_3231  Feature_3232  Feature_3233  Feature_3234  \\\n",
       "count    315.000000    315.000000         315.0    315.000000    315.000000   \n",
       "mean     458.273347   4580.805291           1.0    620.374167      0.112015   \n",
       "std       39.628050   2980.121623           0.0   1254.417871      0.043563   \n",
       "min      309.374029    591.333333           1.0     45.791124      0.058477   \n",
       "25%      432.298489   2881.000000           1.0    245.299821      0.083622   \n",
       "50%      460.598280   4377.000000           1.0    424.561776      0.103960   \n",
       "75%      484.566083   5769.000000           1.0    702.791528      0.131579   \n",
       "max      636.069588  40797.000000           1.0  20921.640194      0.512823   \n",
       "\n",
       "       Feature_3235  Feature_3236  Feature_3237  Feature_3238       CLASS  \n",
       "count         315.0    315.000000    315.000000    315.000000  315.000000  \n",
       "mean            0.0     28.510670      3.792381      0.112015    0.393651  \n",
       "std             0.0      1.711272      0.257607      0.043563    0.489336  \n",
       "min             0.0     16.430985      1.995746      0.058477    0.000000  \n",
       "25%             0.0     27.691774      3.655440      0.083622    0.000000  \n",
       "50%             0.0     28.424340      3.815115      0.103960    0.000000  \n",
       "75%             0.0     29.450389      3.963320      0.131579    1.000000  \n",
       "max             0.0     35.149153      4.271132      0.512823    1.000000  \n",
       "\n",
       "[8 rows x 3239 columns]"
      ]
     },
     "execution_count": 9,
     "metadata": {},
     "output_type": "execute_result"
    }
   ],
   "source": [
    "# get statistic info of data\n",
    "train_data.describe()"
   ]
  },
  {
   "cell_type": "markdown",
   "id": "fc42841d-e0d2-425c-801e-7405437d5514",
   "metadata": {},
   "source": [
    "## Handling Missing values"
   ]
  },
  {
   "cell_type": "code",
   "execution_count": 10,
   "id": "176b2bf7-7da0-4940-bf06-67a1602004d5",
   "metadata": {},
   "outputs": [
    {
     "data": {
      "text/plain": [
       "0"
      ]
     },
     "execution_count": 10,
     "metadata": {},
     "output_type": "execute_result"
    }
   ],
   "source": [
    "# checking duplicates in test data\n",
    "train_data.duplicated().sum()"
   ]
  },
  {
   "cell_type": "code",
   "execution_count": 11,
   "id": "6305ce82-47cf-43c0-9e19-f06c7efc5873",
   "metadata": {},
   "outputs": [
    {
     "data": {
      "text/plain": [
       "0"
      ]
     },
     "execution_count": 11,
     "metadata": {},
     "output_type": "execute_result"
    }
   ],
   "source": [
    "# test for column if all value is null in columns\n",
    "train_data.isnull().all().sum()"
   ]
  },
  {
   "cell_type": "code",
   "execution_count": 12,
   "id": "b2380efd-07cf-427a-adc6-fedfa4be174b",
   "metadata": {},
   "outputs": [
    {
     "name": "stdout",
     "output_type": "stream",
     "text": [
      "Index(['Feature_1712', 'Feature_1713', 'Feature_1714', 'Feature_1715',\n",
      "       'Feature_1716', 'Feature_1717', 'Feature_1718', 'Feature_1719',\n",
      "       'Feature_1720', 'Feature_1721', 'Feature_1722', 'Feature_1723',\n",
      "       'Feature_1724', 'Feature_1725', 'Feature_1726', 'Feature_1727',\n",
      "       'Feature_1728', 'Feature_1729', 'Feature_1730', 'Feature_1731',\n",
      "       'Feature_1732', 'Feature_1733', 'Feature_1734'],\n",
      "      dtype='object')\n"
     ]
    }
   ],
   "source": [
    "# extract columns with null value\n",
    "null_columns = train_data.columns[train_data.isnull().any()]\n",
    "print(null_columns)"
   ]
  },
  {
   "cell_type": "code",
   "execution_count": 13,
   "id": "f1854f1c-88b5-4909-aaa6-2ade2cf1a267",
   "metadata": {},
   "outputs": [
    {
     "name": "stdout",
     "output_type": "stream",
     "text": [
      "Feature_1712    116\n",
      "Feature_1713    116\n",
      "Feature_1714    116\n",
      "Feature_1715    116\n",
      "Feature_1716    116\n",
      "Feature_1717    116\n",
      "Feature_1718    116\n",
      "Feature_1719    116\n",
      "Feature_1720    116\n",
      "Feature_1721    116\n",
      "Feature_1722    116\n",
      "Feature_1723    116\n",
      "Feature_1724    116\n",
      "Feature_1725    116\n",
      "Feature_1726    116\n",
      "Feature_1727    116\n",
      "Feature_1728    116\n",
      "Feature_1729    116\n",
      "Feature_1730    116\n",
      "Feature_1731    116\n",
      "Feature_1732    116\n",
      "Feature_1733    116\n",
      "Feature_1734    116\n",
      "dtype: int64\n"
     ]
    }
   ],
   "source": [
    "# check how many nulls are in columns\n",
    "null_counts = train_data.isnull().sum()\n",
    "print(null_counts[null_counts > 0])"
   ]
  },
  {
   "cell_type": "markdown",
   "id": "0a946d26-5b79-4a91-a5f9-1df5f9efcf6f",
   "metadata": {},
   "source": [
    "#### Almost 50% of values are null"
   ]
  },
  {
   "cell_type": "code",
   "execution_count": 14,
   "id": "53950d1b-fc70-4525-8ec2-48c9f32ede53",
   "metadata": {},
   "outputs": [
    {
     "name": "stdout",
     "output_type": "stream",
     "text": [
      "[1.00444878 1.13807531 1.38900026 1.35167782 1.16489298 1.06116204\n",
      "        nan 1.23450409 1.20563741 1.38668236 1.26231006 1.01047016\n",
      " 1.20673596 1.3689382  1.3520516  1.04291614 1.07981179 1.16516517\n",
      " 1.00033735 1.2284624  1.23796495 1.39468992 1.0474853  1.0755088\n",
      " 1.08275598 1.0010039  1.19851468 1.16711083 1.08991947 1.36764557\n",
      " 1.46123682 1.29343783 1.06901797 1.29584505 1.21051232 1.21352199\n",
      " 1.32777268 1.04141309 1.00815512 1.25936013 1.10844483 1.24295284\n",
      " 1.1521845  1.38567172 1.36713814 1.00026743 1.1965829  1.00059801\n",
      " 1.00009721 1.30623709 1.32237112 1.08209652 1.23216062 1.02608766\n",
      " 1.19296412 1.13533662 1.00099146 1.20051322 1.18606256 1.16035806\n",
      " 1.14411429 1.27885214 1.02442799 1.16119034 1.22449635 1.57223793\n",
      " 1.00203699 1.16833771 1.15545664 1.18285485 1.32880864 1.18482844\n",
      " 1.48051015 1.2601488  1.24079308 1.04501217 1.00343506 1.06584738\n",
      " 1.07147505 1.46136386 1.05039982 1.02730774 1.01466512 1.00049375\n",
      " 1.00041339 1.13123374 1.02296848 1.11880414 1.17207191 1.09354809\n",
      " 1.13597085 1.13544974 1.05262606 1.11888429 1.00066511 1.08657392\n",
      " 1.39108934 1.34206851 1.03721604 1.08718144 1.2436204  1.08995035\n",
      " 1.00259099 1.22477449 1.12483144 1.00197896 1.19673669 1.41030519\n",
      " 1.00406077 1.05708049 1.00022934 1.05953363 1.0319717  1.02067574\n",
      " 1.07322628 1.11974541 1.03591912 1.16039262 1.09374202 1.16986891\n",
      " 1.06631257 1.10301824 1.14809952 1.25921813 1.07693459 1.11475028\n",
      " 1.0123948  1.23873741 1.00446671 1.00045177 1.20207846 1.00030237\n",
      " 1.21163232 1.00800771 1.32187752 1.1031874  1.00391122 1.00099445\n",
      " 1.03095392 1.00170546 1.00061621 1.03519565 1.10639769 1.00923371\n",
      " 1.56723939 1.25353545 1.23667772 1.53906862 1.02981038 1.139951\n",
      " 1.38652048 1.33578379 1.02865665 1.27576596 1.14920116 1.31960098\n",
      " 1.30605237 1.33669256 1.37587668 1.17181    1.16547079 1.22989015\n",
      " 1.00916122 1.3542016  1.26570796 1.44263285 1.02034951 1.07356478\n",
      " 1.19724295 1.16433399 1.40747179 1.03339975 1.00294023 1.00218579\n",
      " 1.43218706 1.16883339 1.0902575  1.0168592  1.04343081 1.29386349\n",
      " 1.09522493 1.21255289 1.20022348 1.00161708 1.20116342 1.07225533\n",
      " 1.44639948 1.1945043  1.00078516 1.04219787 1.05167295 1.03818902\n",
      " 1.01476793 1.00063438 1.00104502 1.20686607 1.25803637 1.0078853\n",
      " 1.00515775 1.27067768]\n"
     ]
    }
   ],
   "source": [
    "# checking unique values in features having null_values\n",
    "print(train_data['Feature_1712'].unique())"
   ]
  },
  {
   "cell_type": "markdown",
   "id": "f925cf8f-c177-4b02-88f5-3ad3f15a9b72",
   "metadata": {},
   "source": [
    "### After analyzing data, Among columns with null_values, some columns have less then 4 unique values and some have all unique values, the float numbers are, positive and negative"
   ]
  },
  {
   "cell_type": "markdown",
   "id": "1af14ed8-0351-4d7f-ab32-b2eae04d95a7",
   "metadata": {},
   "source": [
    "#### Lets seperate null_column which have less uniqe featrues and more unique features"
   ]
  },
  {
   "cell_type": "code",
   "execution_count": 15,
   "id": "c89c9a42-f313-4bdf-989c-d389cbd06e97",
   "metadata": {},
   "outputs": [],
   "source": [
    "low_unique_cols = [col for col in train_data.columns if train_data[col].nunique(dropna=True) < 4 and train_data[col].isnull().any()]\n",
    "high_unique_cols = [col for col in train_data.columns if train_data[col].nunique(dropna=True) >= 4 and train_data[col].isnull().any()]"
   ]
  },
  {
   "cell_type": "markdown",
   "id": "679b8fe1-77e1-49d8-9eab-424a8457c7c4",
   "metadata": {},
   "source": [
    "#### Handling columns with low unique values"
   ]
  },
  {
   "cell_type": "code",
   "execution_count": 16,
   "id": "0948a042-4f94-423d-93fd-e17ff1af0f6c",
   "metadata": {},
   "outputs": [
    {
     "data": {
      "text/plain": [
       "['Feature_1717',\n",
       " 'Feature_1718',\n",
       " 'Feature_1720',\n",
       " 'Feature_1723',\n",
       " 'Feature_1732',\n",
       " 'Feature_1734']"
      ]
     },
     "execution_count": 16,
     "metadata": {},
     "output_type": "execute_result"
    }
   ],
   "source": [
    "low_unique_cols"
   ]
  },
  {
   "cell_type": "code",
   "execution_count": 17,
   "id": "a2df09d5-7288-499e-8fa2-2d76173a131a",
   "metadata": {},
   "outputs": [],
   "source": [
    "# function to count unique values of lower unique counts colums\n",
    "def value_counts_low_uqd(low_unique_cols, data):\n",
    "    counts_dict = {}\n",
    "    for col in low_unique_cols:\n",
    "        counts_dict[col] = data[col].value_counts()\n",
    "    return counts_dict"
   ]
  },
  {
   "cell_type": "code",
   "execution_count": 18,
   "id": "d6ca8657-634c-4abb-b99c-ca9907c128b0",
   "metadata": {},
   "outputs": [
    {
     "name": "stdout",
     "output_type": "stream",
     "text": [
      "{'Feature_1717': Feature_1717\n",
      "1.000000    198\n",
      "1.333333      1\n",
      "Name: count, dtype: int64, 'Feature_1718': Feature_1718\n",
      "1.000000    198\n",
      "1.333333      1\n",
      "Name: count, dtype: int64, 'Feature_1720': Feature_1720\n",
      "2.0    199\n",
      "Name: count, dtype: int64, 'Feature_1723': Feature_1723\n",
      "1.000000    198\n",
      "0.666667      1\n",
      "Name: count, dtype: int64, 'Feature_1732': Feature_1732\n",
      "1.0    199\n",
      "Name: count, dtype: int64, 'Feature_1734': Feature_1734\n",
      "1.0    199\n",
      "Name: count, dtype: int64}\n"
     ]
    }
   ],
   "source": [
    "counts = value_counts_low_uqd(low_unique_cols, train_data)\n",
    "print(counts)"
   ]
  },
  {
   "cell_type": "markdown",
   "id": "a806989b-56f0-49c6-b632-7a4ca080cf5c",
   "metadata": {},
   "source": [
    "#### lets check correlation of these columns with class "
   ]
  },
  {
   "cell_type": "code",
   "execution_count": 19,
   "id": "854c3f7d-f0c9-4e62-a9e7-e1953bae210f",
   "metadata": {},
   "outputs": [],
   "source": [
    "# temporary fill data for correlation\n",
    "temp_df = train_data[low_unique_cols + ['CLASS']].copy()"
   ]
  },
  {
   "cell_type": "code",
   "execution_count": 20,
   "id": "dbb907af-0756-4348-a388-d56b1d7ddc93",
   "metadata": {},
   "outputs": [
    {
     "name": "stderr",
     "output_type": "stream",
     "text": [
      "C:\\Users\\User\\AppData\\Local\\Temp\\ipykernel_4180\\2372759103.py:4: FutureWarning: A value is trying to be set on a copy of a DataFrame or Series through chained assignment using an inplace method.\n",
      "The behavior will change in pandas 3.0. This inplace method will never work because the intermediate object on which we are setting values always behaves as a copy.\n",
      "\n",
      "For example, when doing 'df[col].method(value, inplace=True)', try using 'df.method({col: value}, inplace=True)' or df[col] = df[col].method(value) instead, to perform the operation inplace on the original object.\n",
      "\n",
      "\n",
      "  temp_df[col].fillna(mode_val, inplace=True)\n"
     ]
    }
   ],
   "source": [
    "# fill NaNs temporarily in each low unique column with its mode\n",
    "for col in low_unique_cols:\n",
    "    mode_val = temp_df[col].mode()[0]\n",
    "    temp_df[col].fillna(mode_val, inplace=True)"
   ]
  },
  {
   "cell_type": "code",
   "execution_count": 21,
   "id": "d2050399-4d48-4fed-8113-f201811f1d52",
   "metadata": {},
   "outputs": [
    {
     "data": {
      "text/html": [
       "<div>\n",
       "<style scoped>\n",
       "    .dataframe tbody tr th:only-of-type {\n",
       "        vertical-align: middle;\n",
       "    }\n",
       "\n",
       "    .dataframe tbody tr th {\n",
       "        vertical-align: top;\n",
       "    }\n",
       "\n",
       "    .dataframe thead th {\n",
       "        text-align: right;\n",
       "    }\n",
       "</style>\n",
       "<table border=\"1\" class=\"dataframe\">\n",
       "  <thead>\n",
       "    <tr style=\"text-align: right;\">\n",
       "      <th></th>\n",
       "      <th>Feature_1717</th>\n",
       "      <th>Feature_1718</th>\n",
       "      <th>Feature_1720</th>\n",
       "      <th>Feature_1723</th>\n",
       "      <th>Feature_1732</th>\n",
       "      <th>Feature_1734</th>\n",
       "      <th>CLASS</th>\n",
       "    </tr>\n",
       "  </thead>\n",
       "  <tbody>\n",
       "    <tr>\n",
       "      <th>0</th>\n",
       "      <td>1.0</td>\n",
       "      <td>1.0</td>\n",
       "      <td>2.0</td>\n",
       "      <td>1.0</td>\n",
       "      <td>1.0</td>\n",
       "      <td>1.0</td>\n",
       "      <td>0</td>\n",
       "    </tr>\n",
       "    <tr>\n",
       "      <th>1</th>\n",
       "      <td>1.0</td>\n",
       "      <td>1.0</td>\n",
       "      <td>2.0</td>\n",
       "      <td>1.0</td>\n",
       "      <td>1.0</td>\n",
       "      <td>1.0</td>\n",
       "      <td>1</td>\n",
       "    </tr>\n",
       "    <tr>\n",
       "      <th>2</th>\n",
       "      <td>1.0</td>\n",
       "      <td>1.0</td>\n",
       "      <td>2.0</td>\n",
       "      <td>1.0</td>\n",
       "      <td>1.0</td>\n",
       "      <td>1.0</td>\n",
       "      <td>1</td>\n",
       "    </tr>\n",
       "    <tr>\n",
       "      <th>3</th>\n",
       "      <td>1.0</td>\n",
       "      <td>1.0</td>\n",
       "      <td>2.0</td>\n",
       "      <td>1.0</td>\n",
       "      <td>1.0</td>\n",
       "      <td>1.0</td>\n",
       "      <td>0</td>\n",
       "    </tr>\n",
       "    <tr>\n",
       "      <th>4</th>\n",
       "      <td>1.0</td>\n",
       "      <td>1.0</td>\n",
       "      <td>2.0</td>\n",
       "      <td>1.0</td>\n",
       "      <td>1.0</td>\n",
       "      <td>1.0</td>\n",
       "      <td>0</td>\n",
       "    </tr>\n",
       "    <tr>\n",
       "      <th>...</th>\n",
       "      <td>...</td>\n",
       "      <td>...</td>\n",
       "      <td>...</td>\n",
       "      <td>...</td>\n",
       "      <td>...</td>\n",
       "      <td>...</td>\n",
       "      <td>...</td>\n",
       "    </tr>\n",
       "    <tr>\n",
       "      <th>310</th>\n",
       "      <td>1.0</td>\n",
       "      <td>1.0</td>\n",
       "      <td>2.0</td>\n",
       "      <td>1.0</td>\n",
       "      <td>1.0</td>\n",
       "      <td>1.0</td>\n",
       "      <td>0</td>\n",
       "    </tr>\n",
       "    <tr>\n",
       "      <th>311</th>\n",
       "      <td>1.0</td>\n",
       "      <td>1.0</td>\n",
       "      <td>2.0</td>\n",
       "      <td>1.0</td>\n",
       "      <td>1.0</td>\n",
       "      <td>1.0</td>\n",
       "      <td>1</td>\n",
       "    </tr>\n",
       "    <tr>\n",
       "      <th>312</th>\n",
       "      <td>1.0</td>\n",
       "      <td>1.0</td>\n",
       "      <td>2.0</td>\n",
       "      <td>1.0</td>\n",
       "      <td>1.0</td>\n",
       "      <td>1.0</td>\n",
       "      <td>0</td>\n",
       "    </tr>\n",
       "    <tr>\n",
       "      <th>313</th>\n",
       "      <td>1.0</td>\n",
       "      <td>1.0</td>\n",
       "      <td>2.0</td>\n",
       "      <td>1.0</td>\n",
       "      <td>1.0</td>\n",
       "      <td>1.0</td>\n",
       "      <td>1</td>\n",
       "    </tr>\n",
       "    <tr>\n",
       "      <th>314</th>\n",
       "      <td>1.0</td>\n",
       "      <td>1.0</td>\n",
       "      <td>2.0</td>\n",
       "      <td>1.0</td>\n",
       "      <td>1.0</td>\n",
       "      <td>1.0</td>\n",
       "      <td>0</td>\n",
       "    </tr>\n",
       "  </tbody>\n",
       "</table>\n",
       "<p>315 rows × 7 columns</p>\n",
       "</div>"
      ],
      "text/plain": [
       "     Feature_1717  Feature_1718  Feature_1720  Feature_1723  Feature_1732  \\\n",
       "0             1.0           1.0           2.0           1.0           1.0   \n",
       "1             1.0           1.0           2.0           1.0           1.0   \n",
       "2             1.0           1.0           2.0           1.0           1.0   \n",
       "3             1.0           1.0           2.0           1.0           1.0   \n",
       "4             1.0           1.0           2.0           1.0           1.0   \n",
       "..            ...           ...           ...           ...           ...   \n",
       "310           1.0           1.0           2.0           1.0           1.0   \n",
       "311           1.0           1.0           2.0           1.0           1.0   \n",
       "312           1.0           1.0           2.0           1.0           1.0   \n",
       "313           1.0           1.0           2.0           1.0           1.0   \n",
       "314           1.0           1.0           2.0           1.0           1.0   \n",
       "\n",
       "     Feature_1734  CLASS  \n",
       "0             1.0      0  \n",
       "1             1.0      1  \n",
       "2             1.0      1  \n",
       "3             1.0      0  \n",
       "4             1.0      0  \n",
       "..            ...    ...  \n",
       "310           1.0      0  \n",
       "311           1.0      1  \n",
       "312           1.0      0  \n",
       "313           1.0      1  \n",
       "314           1.0      0  \n",
       "\n",
       "[315 rows x 7 columns]"
      ]
     },
     "execution_count": 21,
     "metadata": {},
     "output_type": "execute_result"
    }
   ],
   "source": [
    "temp_df"
   ]
  },
  {
   "cell_type": "code",
   "execution_count": 22,
   "id": "340e64e9-7a66-4eb6-a3ec-b7faf7aa6b8f",
   "metadata": {},
   "outputs": [
    {
     "name": "stdout",
     "output_type": "stream",
     "text": [
      "CLASS           1.000000\n",
      "Feature_1717    0.070039\n",
      "Feature_1718    0.070039\n",
      "Feature_1723   -0.070039\n",
      "Feature_1720         NaN\n",
      "Feature_1732         NaN\n",
      "Feature_1734         NaN\n",
      "Name: CLASS, dtype: float64\n"
     ]
    }
   ],
   "source": [
    "# calculate correlation matrix\n",
    "corr_matrix = temp_df.corr()\n",
    "\n",
    "# extract correlation of each low unique column with the target\n",
    "corr_with_class = corr_matrix['CLASS'].sort_values(ascending=False)\n",
    "\n",
    "print(corr_with_class)"
   ]
  },
  {
   "cell_type": "markdown",
   "id": "41585ef7-c464-468b-9ee1-041abc28aca8",
   "metadata": {},
   "source": [
    "These columns has negligable or weak correlation with class so we can drop them\n",
    "\n",
    "Strong Correlation: |r| > 0.7 indicates a strong linear relationship.\n",
    "\n",
    "Moderate Correlation: 0.5 < |r| < 0.7 suggests a moderate relationship.\n",
    "\n",
    "Weak Correlation: 0.3 < |r| < 0.5 implies a weak association.\n",
    "\n",
    "Negligible Correlation: |r| < 0.3 suggests little or no linear correlation."
   ]
  },
  {
   "cell_type": "code",
   "execution_count": 23,
   "id": "0e512ea7-c9bb-4e5f-a3d9-15d1ebc8073d",
   "metadata": {},
   "outputs": [],
   "source": [
    "# Drop columns with low unique values\n",
    "train_data.drop(low_unique_cols, axis = 1, inplace = True)"
   ]
  },
  {
   "cell_type": "code",
   "execution_count": 24,
   "id": "c781b5bb-03c6-4ddb-8e52-2ef5f37d08bb",
   "metadata": {},
   "outputs": [
    {
     "data": {
      "text/plain": [
       "['Feature_1712',\n",
       " 'Feature_1713',\n",
       " 'Feature_1714',\n",
       " 'Feature_1715',\n",
       " 'Feature_1716',\n",
       " 'Feature_1719',\n",
       " 'Feature_1721',\n",
       " 'Feature_1722',\n",
       " 'Feature_1724',\n",
       " 'Feature_1725',\n",
       " 'Feature_1726',\n",
       " 'Feature_1727',\n",
       " 'Feature_1728',\n",
       " 'Feature_1729',\n",
       " 'Feature_1730',\n",
       " 'Feature_1731',\n",
       " 'Feature_1733']"
      ]
     },
     "execution_count": 24,
     "metadata": {},
     "output_type": "execute_result"
    }
   ],
   "source": [
    "high_unique_cols"
   ]
  },
  {
   "cell_type": "code",
   "execution_count": 25,
   "id": "0690098f-cb12-41da-8769-a011607b228d",
   "metadata": {},
   "outputs": [
    {
     "name": "stdout",
     "output_type": "stream",
     "text": [
      "{'Feature_1712': Feature_1712\n",
      "1.004449    1\n",
      "1.012395    1\n",
      "1.004467    1\n",
      "1.000452    1\n",
      "1.202078    1\n",
      "           ..\n",
      "1.328809    1\n",
      "1.184828    1\n",
      "1.480510    1\n",
      "1.260149    1\n",
      "1.270678    1\n",
      "Name: count, Length: 199, dtype: int64, 'Feature_1713': Feature_1713\n",
      "0.004429    1\n",
      "0.012241    1\n",
      "0.004447    1\n",
      "0.000452    1\n",
      "0.161243    1\n",
      "           ..\n",
      "0.187341    1\n",
      "0.150667    1\n",
      "0.249620    1\n",
      "0.192471    1\n",
      "0.197411    1\n",
      "Name: count, Length: 199, dtype: int64, 'Feature_1714': Feature_1714\n",
      "14.892446    1\n",
      "8.814282     1\n",
      "14.862129    1\n",
      "47.015960    1\n",
      "1.483856     1\n",
      "            ..\n",
      "0.978625     1\n",
      "1.623933     1\n",
      "0.078019     1\n",
      "1.093424     1\n",
      "1.032263     1\n",
      "Name: count, Length: 199, dtype: int64, 'Feature_1715': Feature_1715\n",
      " 219.784956     1\n",
      " 75.691563      1\n",
      " 218.882865     1\n",
      " 2208.500452    1\n",
      " 0.201829       1\n",
      "               ..\n",
      " 0.007062       1\n",
      " 0.637158       1\n",
      "-1.993913       1\n",
      "-0.804423       1\n",
      "-0.934433       1\n",
      "Name: count, Length: 199, dtype: int64, 'Feature_1716': Feature_1716\n",
      "1.000000    189\n",
      "1.500000      7\n",
      "1.666667      1\n",
      "1.333333      1\n",
      "2.000000      1\n",
      "Name: count, dtype: int64, 'Feature_1719': Feature_1719\n",
      "2.000000    106\n",
      "1.000000     83\n",
      "1.500000      9\n",
      "1.333333      1\n",
      "Name: count, dtype: int64, 'Feature_1721': Feature_1721\n",
      "1.000000    189\n",
      "1.500000      7\n",
      "1.666667      1\n",
      "1.333333      1\n",
      "2.000000      1\n",
      "Name: count, dtype: int64, 'Feature_1722': Feature_1722\n",
      "0.000000    142\n",
      "1.000000     40\n",
      "0.500000     15\n",
      "0.333333      2\n",
      "Name: count, dtype: int64, 'Feature_1724': Feature_1724\n",
      "0.008858    1\n",
      "0.024482    1\n",
      "0.008893    1\n",
      "0.000903    1\n",
      "0.322486    1\n",
      "           ..\n",
      "0.374682    1\n",
      "0.301334    1\n",
      "0.499240    1\n",
      "0.384943    1\n",
      "0.394823    1\n",
      "Name: count, Length: 199, dtype: int64, 'Feature_1725': Feature_1725\n",
      "0.000000    83\n",
      "0.384048     1\n",
      "0.496947     1\n",
      "0.145873     1\n",
      "0.378511     1\n",
      "            ..\n",
      "0.311458     1\n",
      "0.353678     1\n",
      "0.436896     1\n",
      "0.424912     1\n",
      "0.394823     1\n",
      "Name: count, Length: 117, dtype: int64, 'Feature_1726': Feature_1726\n",
      "0.004449    1\n",
      "0.012395    1\n",
      "0.004467    1\n",
      "0.000452    1\n",
      "0.202078    1\n",
      "           ..\n",
      "0.317373    1\n",
      "0.184828    1\n",
      "0.480510    1\n",
      "0.260149    1\n",
      "0.270678    1\n",
      "Name: count, Length: 199, dtype: int64, 'Feature_1727': Feature_1727\n",
      "0.066256    1\n",
      "0.109285    1\n",
      "0.066387    1\n",
      "0.021241    1\n",
      "0.334047    1\n",
      "           ..\n",
      "0.319477    1\n",
      "0.327607    1\n",
      "0.337465    1\n",
      "0.348146    1\n",
      "0.349664    1\n",
      "Name: count, Length: 199, dtype: int64, 'Feature_1728': Feature_1728\n",
      "0.000000    142\n",
      "0.333333     40\n",
      "0.166667     15\n",
      "0.111111      2\n",
      "Name: count, dtype: int64, 'Feature_1729': Feature_1729\n",
      "0.041160    1\n",
      "0.096281    1\n",
      "0.041299    1\n",
      "0.005672    1\n",
      "0.726066    1\n",
      "           ..\n",
      "0.799912    1\n",
      "0.690527    1\n",
      "0.998904    1\n",
      "0.826971    1\n",
      "0.842435    1\n",
      "Name: count, Length: 199, dtype: int64, 'Feature_1730': Feature_1730\n",
      "0.991142    1\n",
      "0.975518    1\n",
      "0.991106    1\n",
      "0.999097    1\n",
      "0.677514    1\n",
      "           ..\n",
      "0.625318    1\n",
      "0.698666    1\n",
      "0.500760    1\n",
      "0.615057    1\n",
      "0.605177    1\n",
      "Name: count, Length: 199, dtype: int64, 'Feature_1731': Feature_1731\n",
      "-18268.0    1\n",
      "-6373.0     1\n",
      "-32838.0    1\n",
      "-26538.0    1\n",
      "-21386.0    1\n",
      "           ..\n",
      "-3692.0     1\n",
      "-29449.0    1\n",
      "-1953.0     1\n",
      "-17796.0    1\n",
      "-24371.0    1\n",
      "Name: count, Length: 199, dtype: int64, 'Feature_1733': Feature_1733\n",
      "-18268.0    1\n",
      "-6373.0     1\n",
      "-32838.0    1\n",
      "-26538.0    1\n",
      "-21386.0    1\n",
      "           ..\n",
      "-3692.0     1\n",
      "-29449.0    1\n",
      "-1953.0     1\n",
      "-17796.0    1\n",
      "-24371.0    1\n",
      "Name: count, Length: 199, dtype: int64}\n"
     ]
    }
   ],
   "source": [
    "counts = value_counts_low_uqd(high_unique_cols, train_data)\n",
    "print(counts)"
   ]
  },
  {
   "cell_type": "code",
   "execution_count": 26,
   "id": "04546c28-11aa-4dce-b9cd-2fcb15df6cac",
   "metadata": {},
   "outputs": [],
   "source": [
    "def evaluete_range(high_unique_cols, data):\n",
    "    range_ = {}\n",
    "    for col in high_unique_cols:\n",
    "        range_[col] = [data[col].min(), data[col].max()]\n",
    "    return range_"
   ]
  },
  {
   "cell_type": "code",
   "execution_count": 27,
   "id": "17106d84-5cc4-46c1-88a4-c1f62b99084f",
   "metadata": {},
   "outputs": [
    {
     "name": "stdout",
     "output_type": "stream",
     "text": [
      "{'Feature_1712': [1.0000972100709633, 1.5722379305277738], 'Feature_1713': [9.720062116545512e-05, 0.2496201457116177], 'Feature_1714': [-0.332717048265728, 101.41005915203642], 'Feature_1715': [-1.9939130828195089, 10282.000097219525], 'Feature_1716': [1.0, 2.0], 'Feature_1719': [1.0, 2.0], 'Feature_1721': [1.0, 2.0], 'Feature_1722': [0.0, 1.0], 'Feature_1724': [0.0001943467505043, 0.4992402791976928], 'Feature_1725': [0.0, 0.4992402791976928], 'Feature_1726': [9.721006790641697e-05, 0.4805101454257965], 'Feature_1727': [0.0098580801859498, 0.3535480201244354], 'Feature_1728': [0.0, 0.3333333333333333], 'Feature_1729': [0.001435905473513, 0.99890369448105], 'Feature_1730': [0.5007597085767643, 0.9998055987576692], 'Feature_1731': [-96655.0, 4485.0], 'Feature_1733': [-96655.0, 4485.0]}\n"
     ]
    }
   ],
   "source": [
    "ranges_ = evaluete_range(high_unique_cols, train_data)\n",
    "print(ranges_)"
   ]
  },
  {
   "cell_type": "code",
   "execution_count": 28,
   "id": "52931059-7b5a-4cde-bd8f-35430b032b83",
   "metadata": {},
   "outputs": [],
   "source": [
    "# fill nan value of high unique cols with median value based on 'CLASS' feature\n",
    "# choose median since some columns have outliers\n",
    "for col in high_unique_cols:\n",
    "    train_data[col] = train_data.groupby('CLASS')[col].transform(lambda x: x.fillna(x.median()))"
   ]
  },
  {
   "cell_type": "code",
   "execution_count": 29,
   "id": "a1a6e42e-b529-41d5-93eb-bdce0298997b",
   "metadata": {},
   "outputs": [
    {
     "data": {
      "text/plain": [
       "True"
      ]
     },
     "execution_count": 29,
     "metadata": {},
     "output_type": "execute_result"
    }
   ],
   "source": [
    "# check if feature_1731 equals to feature_1733\n",
    "train_data['Feature_1731'].equals(train_data['Feature_1733'])"
   ]
  },
  {
   "cell_type": "code",
   "execution_count": 30,
   "id": "59de3ee4-0995-4a5c-a26a-44cb3a80a7a1",
   "metadata": {},
   "outputs": [],
   "source": [
    "# drop feature_1733 since it is dublicate of feature_1731\n",
    "train_data.drop('Feature_1733', axis=1, inplace = True)"
   ]
  },
  {
   "cell_type": "code",
   "execution_count": 31,
   "id": "9bcf2f88-2c48-4bc6-91ab-8752578ebb5a",
   "metadata": {},
   "outputs": [
    {
     "data": {
      "text/plain": [
       "0"
      ]
     },
     "execution_count": 31,
     "metadata": {},
     "output_type": "execute_result"
    }
   ],
   "source": [
    "# checking null value\n",
    "train_data.isnull().any().sum()"
   ]
  },
  {
   "cell_type": "markdown",
   "id": "0de7f27e-beda-4536-98b3-d13671985832",
   "metadata": {},
   "source": [
    "## identifying and handling Outliers"
   ]
  },
  {
   "cell_type": "markdown",
   "id": "507a67c2-99fb-4718-b7fe-aeb85dc550c2",
   "metadata": {},
   "source": [
    "#### Handling outlier of feature_1714"
   ]
  },
  {
   "cell_type": "code",
   "execution_count": 32,
   "id": "6481c88b-31cf-4a8b-ac51-f20a97bfec66",
   "metadata": {},
   "outputs": [
    {
     "data": {
      "image/png": "[encoded data removed]",
      "text/plain": [
       "<Figure size 800x600 with 1 Axes>"
      ]
     },
     "metadata": {},
     "output_type": "display_data"
    },
    {
     "data": {
      "image/png": "[encoded data removed]",
      "text/plain": [
       "<Figure size 800x600 with 1 Axes>"
      ]
     },
     "metadata": {},
     "output_type": "display_data"
    }
   ],
   "source": [
    "# The wide range of value can be seen on fearure 1714, lets visualize it \n",
    "plt.figure(figsize=(8, 6))\n",
    "sns.boxplot(x='CLASS', y='Feature_1714', data=train_data)\n",
    "plt.title('Boxplot of Feature_1714 by Class')\n",
    "plt.show()\n",
    "\n",
    "plt.figure(figsize=(8, 6))\n",
    "sns.histplot(data=train_data, x='Feature_1714', hue='CLASS', bins=50, kde=True, element=\"step\")\n",
    "plt.title('Histogram of Feature_1714 by Class')\n",
    "plt.show()"
   ]
  },
  {
   "cell_type": "markdown",
   "id": "5774b2ca-f0ef-47e6-9131-cd97f79dc8d9",
   "metadata": {},
   "source": [
    "The column feature_1714 have outliers"
   ]
  },
  {
   "cell_type": "code",
   "execution_count": 33,
   "id": "7dc67923-7c00-4aa1-a25a-cf63f7f1089e",
   "metadata": {},
   "outputs": [
    {
     "name": "stdout",
     "output_type": "stream",
     "text": [
      "Capped 40 outliers in Class 0 with Q3 = 3.24\n",
      "Capped 18 outliers in Class 1 with Q3 = 3.33\n"
     ]
    }
   ],
   "source": [
    "# let's cap outlier for feature_1714\n",
    "\n",
    "# loop over both classes\n",
    "for cls in [0, 1]:\n",
    "    # subset for the class\n",
    "    class_data = train_data[train_data['CLASS'] == cls]\n",
    "\n",
    "    # compute Q1, Q3, and IQR\n",
    "    Q1 = class_data['Feature_1714'].quantile(0.25)\n",
    "    Q3 = class_data['Feature_1714'].quantile(0.75)\n",
    "    IQR = Q3 - Q1\n",
    "    upper_bound = Q3 + 1.5 * IQR\n",
    "\n",
    "    # mask for outliers in this class\n",
    "    mask = (train_data['CLASS'] == cls) & (train_data['Feature_1714'] > upper_bound)\n",
    "\n",
    "    # replace outliers with Q3 for this class\n",
    "    train_data.loc[mask, 'Feature_1714'] = Q3\n",
    "\n",
    "    print(f\"Capped {mask.sum()} outliers in Class {cls} with Q3 = {Q3:.2f}\")"
   ]
  },
  {
   "cell_type": "code",
   "execution_count": 34,
   "id": "f58d3091-27ea-42e4-99dc-fad718e2994d",
   "metadata": {},
   "outputs": [
    {
     "data": {
      "image/png": "[encoded data removed]",
      "text/plain": [
       "<Figure size 800x600 with 1 Axes>"
      ]
     },
     "metadata": {},
     "output_type": "display_data"
    },
    {
     "data": {
      "image/png": "[encoded data removed]",
      "text/plain": [
       "<Figure size 800x600 with 1 Axes>"
      ]
     },
     "metadata": {},
     "output_type": "display_data"
    }
   ],
   "source": [
    "# Visualization after capping outliers\n",
    "plt.figure(figsize=(8, 6))\n",
    "sns.boxplot(x='CLASS', y='Feature_1714', data=train_data)\n",
    "plt.title('Boxplot of Feature_1714 by Class')\n",
    "plt.show()\n",
    "\n",
    "plt.figure(figsize=(8, 6))\n",
    "sns.histplot(data=train_data, x='Feature_1714', hue='CLASS', bins=50, kde=True, element=\"step\")\n",
    "plt.title('Histogram of Feature_1714 by Class')\n",
    "plt.show()"
   ]
  },
  {
   "cell_type": "code",
   "execution_count": 35,
   "id": "033ef261-bb4b-4217-abad-f09ac780b2ae",
   "metadata": {},
   "outputs": [
    {
     "data": {
      "text/html": [
       "<div>\n",
       "<style scoped>\n",
       "    .dataframe tbody tr th:only-of-type {\n",
       "        vertical-align: middle;\n",
       "    }\n",
       "\n",
       "    .dataframe tbody tr th {\n",
       "        vertical-align: top;\n",
       "    }\n",
       "\n",
       "    .dataframe thead th {\n",
       "        text-align: right;\n",
       "    }\n",
       "</style>\n",
       "<table border=\"1\" class=\"dataframe\">\n",
       "  <thead>\n",
       "    <tr style=\"text-align: right;\">\n",
       "      <th></th>\n",
       "      <th>Feature_1910</th>\n",
       "      <th>Feature_1911</th>\n",
       "      <th>Feature_1912</th>\n",
       "      <th>Feature_1913</th>\n",
       "      <th>Feature_1914</th>\n",
       "      <th>Feature_1915</th>\n",
       "      <th>Feature_1916</th>\n",
       "      <th>Feature_1917</th>\n",
       "      <th>Feature_1918</th>\n",
       "      <th>Feature_1919</th>\n",
       "      <th>...</th>\n",
       "      <th>Feature_2981</th>\n",
       "      <th>Feature_2982</th>\n",
       "      <th>Feature_3097</th>\n",
       "      <th>Feature_3098</th>\n",
       "      <th>Feature_3104</th>\n",
       "      <th>Feature_3107</th>\n",
       "      <th>Feature_3225</th>\n",
       "      <th>Feature_3226</th>\n",
       "      <th>Feature_3232</th>\n",
       "      <th>Feature_3235</th>\n",
       "    </tr>\n",
       "  </thead>\n",
       "  <tbody>\n",
       "    <tr>\n",
       "      <th>0</th>\n",
       "      <td>1.0</td>\n",
       "      <td>1.0</td>\n",
       "      <td>0.0</td>\n",
       "      <td>0.0</td>\n",
       "      <td>0.0</td>\n",
       "      <td>0.0</td>\n",
       "      <td>0.0</td>\n",
       "      <td>2.0</td>\n",
       "      <td>0.0</td>\n",
       "      <td>0.0</td>\n",
       "      <td>...</td>\n",
       "      <td>0.0</td>\n",
       "      <td>0.0</td>\n",
       "      <td>1.0</td>\n",
       "      <td>1.0</td>\n",
       "      <td>1.0</td>\n",
       "      <td>0.0</td>\n",
       "      <td>1.0</td>\n",
       "      <td>1.0</td>\n",
       "      <td>1.0</td>\n",
       "      <td>0.0</td>\n",
       "    </tr>\n",
       "    <tr>\n",
       "      <th>1</th>\n",
       "      <td>1.0</td>\n",
       "      <td>1.0</td>\n",
       "      <td>0.0</td>\n",
       "      <td>0.0</td>\n",
       "      <td>0.0</td>\n",
       "      <td>0.0</td>\n",
       "      <td>0.0</td>\n",
       "      <td>2.0</td>\n",
       "      <td>0.0</td>\n",
       "      <td>0.0</td>\n",
       "      <td>...</td>\n",
       "      <td>0.0</td>\n",
       "      <td>0.0</td>\n",
       "      <td>1.0</td>\n",
       "      <td>1.0</td>\n",
       "      <td>1.0</td>\n",
       "      <td>0.0</td>\n",
       "      <td>1.0</td>\n",
       "      <td>1.0</td>\n",
       "      <td>1.0</td>\n",
       "      <td>0.0</td>\n",
       "    </tr>\n",
       "    <tr>\n",
       "      <th>2</th>\n",
       "      <td>1.0</td>\n",
       "      <td>1.0</td>\n",
       "      <td>0.0</td>\n",
       "      <td>0.0</td>\n",
       "      <td>0.0</td>\n",
       "      <td>0.0</td>\n",
       "      <td>0.0</td>\n",
       "      <td>2.0</td>\n",
       "      <td>0.0</td>\n",
       "      <td>0.0</td>\n",
       "      <td>...</td>\n",
       "      <td>0.0</td>\n",
       "      <td>0.0</td>\n",
       "      <td>1.0</td>\n",
       "      <td>1.0</td>\n",
       "      <td>1.0</td>\n",
       "      <td>0.0</td>\n",
       "      <td>1.0</td>\n",
       "      <td>1.0</td>\n",
       "      <td>1.0</td>\n",
       "      <td>0.0</td>\n",
       "    </tr>\n",
       "    <tr>\n",
       "      <th>3</th>\n",
       "      <td>1.0</td>\n",
       "      <td>1.0</td>\n",
       "      <td>0.0</td>\n",
       "      <td>0.0</td>\n",
       "      <td>0.0</td>\n",
       "      <td>0.0</td>\n",
       "      <td>0.0</td>\n",
       "      <td>2.0</td>\n",
       "      <td>0.0</td>\n",
       "      <td>0.0</td>\n",
       "      <td>...</td>\n",
       "      <td>0.0</td>\n",
       "      <td>0.0</td>\n",
       "      <td>1.0</td>\n",
       "      <td>1.0</td>\n",
       "      <td>1.0</td>\n",
       "      <td>0.0</td>\n",
       "      <td>1.0</td>\n",
       "      <td>1.0</td>\n",
       "      <td>1.0</td>\n",
       "      <td>0.0</td>\n",
       "    </tr>\n",
       "    <tr>\n",
       "      <th>4</th>\n",
       "      <td>1.0</td>\n",
       "      <td>1.0</td>\n",
       "      <td>0.0</td>\n",
       "      <td>0.0</td>\n",
       "      <td>0.0</td>\n",
       "      <td>0.0</td>\n",
       "      <td>0.0</td>\n",
       "      <td>2.0</td>\n",
       "      <td>0.0</td>\n",
       "      <td>0.0</td>\n",
       "      <td>...</td>\n",
       "      <td>0.0</td>\n",
       "      <td>0.0</td>\n",
       "      <td>1.0</td>\n",
       "      <td>1.0</td>\n",
       "      <td>1.0</td>\n",
       "      <td>0.0</td>\n",
       "      <td>1.0</td>\n",
       "      <td>1.0</td>\n",
       "      <td>1.0</td>\n",
       "      <td>0.0</td>\n",
       "    </tr>\n",
       "    <tr>\n",
       "      <th>...</th>\n",
       "      <td>...</td>\n",
       "      <td>...</td>\n",
       "      <td>...</td>\n",
       "      <td>...</td>\n",
       "      <td>...</td>\n",
       "      <td>...</td>\n",
       "      <td>...</td>\n",
       "      <td>...</td>\n",
       "      <td>...</td>\n",
       "      <td>...</td>\n",
       "      <td>...</td>\n",
       "      <td>...</td>\n",
       "      <td>...</td>\n",
       "      <td>...</td>\n",
       "      <td>...</td>\n",
       "      <td>...</td>\n",
       "      <td>...</td>\n",
       "      <td>...</td>\n",
       "      <td>...</td>\n",
       "      <td>...</td>\n",
       "      <td>...</td>\n",
       "    </tr>\n",
       "    <tr>\n",
       "      <th>310</th>\n",
       "      <td>1.0</td>\n",
       "      <td>1.0</td>\n",
       "      <td>0.0</td>\n",
       "      <td>0.0</td>\n",
       "      <td>0.0</td>\n",
       "      <td>0.0</td>\n",
       "      <td>0.0</td>\n",
       "      <td>2.0</td>\n",
       "      <td>0.0</td>\n",
       "      <td>0.0</td>\n",
       "      <td>...</td>\n",
       "      <td>0.0</td>\n",
       "      <td>0.0</td>\n",
       "      <td>1.0</td>\n",
       "      <td>1.0</td>\n",
       "      <td>1.0</td>\n",
       "      <td>0.0</td>\n",
       "      <td>1.0</td>\n",
       "      <td>1.0</td>\n",
       "      <td>1.0</td>\n",
       "      <td>0.0</td>\n",
       "    </tr>\n",
       "    <tr>\n",
       "      <th>311</th>\n",
       "      <td>1.0</td>\n",
       "      <td>1.0</td>\n",
       "      <td>0.0</td>\n",
       "      <td>0.0</td>\n",
       "      <td>0.0</td>\n",
       "      <td>0.0</td>\n",
       "      <td>0.0</td>\n",
       "      <td>2.0</td>\n",
       "      <td>0.0</td>\n",
       "      <td>0.0</td>\n",
       "      <td>...</td>\n",
       "      <td>0.0</td>\n",
       "      <td>0.0</td>\n",
       "      <td>1.0</td>\n",
       "      <td>1.0</td>\n",
       "      <td>1.0</td>\n",
       "      <td>0.0</td>\n",
       "      <td>1.0</td>\n",
       "      <td>1.0</td>\n",
       "      <td>1.0</td>\n",
       "      <td>0.0</td>\n",
       "    </tr>\n",
       "    <tr>\n",
       "      <th>312</th>\n",
       "      <td>1.0</td>\n",
       "      <td>1.0</td>\n",
       "      <td>0.0</td>\n",
       "      <td>0.0</td>\n",
       "      <td>0.0</td>\n",
       "      <td>0.0</td>\n",
       "      <td>0.0</td>\n",
       "      <td>2.0</td>\n",
       "      <td>0.0</td>\n",
       "      <td>0.0</td>\n",
       "      <td>...</td>\n",
       "      <td>0.0</td>\n",
       "      <td>0.0</td>\n",
       "      <td>1.0</td>\n",
       "      <td>1.0</td>\n",
       "      <td>1.0</td>\n",
       "      <td>0.0</td>\n",
       "      <td>1.0</td>\n",
       "      <td>1.0</td>\n",
       "      <td>1.0</td>\n",
       "      <td>0.0</td>\n",
       "    </tr>\n",
       "    <tr>\n",
       "      <th>313</th>\n",
       "      <td>1.0</td>\n",
       "      <td>1.0</td>\n",
       "      <td>0.0</td>\n",
       "      <td>0.0</td>\n",
       "      <td>0.0</td>\n",
       "      <td>0.0</td>\n",
       "      <td>0.0</td>\n",
       "      <td>2.0</td>\n",
       "      <td>0.0</td>\n",
       "      <td>0.0</td>\n",
       "      <td>...</td>\n",
       "      <td>0.0</td>\n",
       "      <td>0.0</td>\n",
       "      <td>1.0</td>\n",
       "      <td>1.0</td>\n",
       "      <td>1.0</td>\n",
       "      <td>0.0</td>\n",
       "      <td>1.0</td>\n",
       "      <td>1.0</td>\n",
       "      <td>1.0</td>\n",
       "      <td>0.0</td>\n",
       "    </tr>\n",
       "    <tr>\n",
       "      <th>314</th>\n",
       "      <td>1.0</td>\n",
       "      <td>1.0</td>\n",
       "      <td>0.0</td>\n",
       "      <td>0.0</td>\n",
       "      <td>0.0</td>\n",
       "      <td>0.0</td>\n",
       "      <td>0.0</td>\n",
       "      <td>2.0</td>\n",
       "      <td>0.0</td>\n",
       "      <td>0.0</td>\n",
       "      <td>...</td>\n",
       "      <td>0.0</td>\n",
       "      <td>0.0</td>\n",
       "      <td>1.0</td>\n",
       "      <td>1.0</td>\n",
       "      <td>1.0</td>\n",
       "      <td>0.0</td>\n",
       "      <td>1.0</td>\n",
       "      <td>1.0</td>\n",
       "      <td>1.0</td>\n",
       "      <td>0.0</td>\n",
       "    </tr>\n",
       "  </tbody>\n",
       "</table>\n",
       "<p>315 rows × 111 columns</p>\n",
       "</div>"
      ],
      "text/plain": [
       "     Feature_1910  Feature_1911  Feature_1912  Feature_1913  Feature_1914  \\\n",
       "0             1.0           1.0           0.0           0.0           0.0   \n",
       "1             1.0           1.0           0.0           0.0           0.0   \n",
       "2             1.0           1.0           0.0           0.0           0.0   \n",
       "3             1.0           1.0           0.0           0.0           0.0   \n",
       "4             1.0           1.0           0.0           0.0           0.0   \n",
       "..            ...           ...           ...           ...           ...   \n",
       "310           1.0           1.0           0.0           0.0           0.0   \n",
       "311           1.0           1.0           0.0           0.0           0.0   \n",
       "312           1.0           1.0           0.0           0.0           0.0   \n",
       "313           1.0           1.0           0.0           0.0           0.0   \n",
       "314           1.0           1.0           0.0           0.0           0.0   \n",
       "\n",
       "     Feature_1915  Feature_1916  Feature_1917  Feature_1918  Feature_1919  \\\n",
       "0             0.0           0.0           2.0           0.0           0.0   \n",
       "1             0.0           0.0           2.0           0.0           0.0   \n",
       "2             0.0           0.0           2.0           0.0           0.0   \n",
       "3             0.0           0.0           2.0           0.0           0.0   \n",
       "4             0.0           0.0           2.0           0.0           0.0   \n",
       "..            ...           ...           ...           ...           ...   \n",
       "310           0.0           0.0           2.0           0.0           0.0   \n",
       "311           0.0           0.0           2.0           0.0           0.0   \n",
       "312           0.0           0.0           2.0           0.0           0.0   \n",
       "313           0.0           0.0           2.0           0.0           0.0   \n",
       "314           0.0           0.0           2.0           0.0           0.0   \n",
       "\n",
       "     ...  Feature_2981  Feature_2982  Feature_3097  Feature_3098  \\\n",
       "0    ...           0.0           0.0           1.0           1.0   \n",
       "1    ...           0.0           0.0           1.0           1.0   \n",
       "2    ...           0.0           0.0           1.0           1.0   \n",
       "3    ...           0.0           0.0           1.0           1.0   \n",
       "4    ...           0.0           0.0           1.0           1.0   \n",
       "..   ...           ...           ...           ...           ...   \n",
       "310  ...           0.0           0.0           1.0           1.0   \n",
       "311  ...           0.0           0.0           1.0           1.0   \n",
       "312  ...           0.0           0.0           1.0           1.0   \n",
       "313  ...           0.0           0.0           1.0           1.0   \n",
       "314  ...           0.0           0.0           1.0           1.0   \n",
       "\n",
       "     Feature_3104  Feature_3107  Feature_3225  Feature_3226  Feature_3232  \\\n",
       "0             1.0           0.0           1.0           1.0           1.0   \n",
       "1             1.0           0.0           1.0           1.0           1.0   \n",
       "2             1.0           0.0           1.0           1.0           1.0   \n",
       "3             1.0           0.0           1.0           1.0           1.0   \n",
       "4             1.0           0.0           1.0           1.0           1.0   \n",
       "..            ...           ...           ...           ...           ...   \n",
       "310           1.0           0.0           1.0           1.0           1.0   \n",
       "311           1.0           0.0           1.0           1.0           1.0   \n",
       "312           1.0           0.0           1.0           1.0           1.0   \n",
       "313           1.0           0.0           1.0           1.0           1.0   \n",
       "314           1.0           0.0           1.0           1.0           1.0   \n",
       "\n",
       "     Feature_3235  \n",
       "0             0.0  \n",
       "1             0.0  \n",
       "2             0.0  \n",
       "3             0.0  \n",
       "4             0.0  \n",
       "..            ...  \n",
       "310           0.0  \n",
       "311           0.0  \n",
       "312           0.0  \n",
       "313           0.0  \n",
       "314           0.0  \n",
       "\n",
       "[315 rows x 111 columns]"
      ]
     },
     "execution_count": 35,
     "metadata": {},
     "output_type": "execute_result"
    }
   ],
   "source": [
    "# identify features with consistent values\n",
    "constant_cols = train_data.loc[:, train_data.nunique() == 1]\n",
    "constant_cols"
   ]
  },
  {
   "cell_type": "markdown",
   "id": "fc2f8241-44fd-4cf1-91b3-317520731ced",
   "metadata": {},
   "source": [
    "#### These featurses with constant value add no value in ML model"
   ]
  },
  {
   "cell_type": "code",
   "execution_count": 36,
   "id": "8176795f-09d4-49db-9cc7-b4c12a9721a5",
   "metadata": {},
   "outputs": [],
   "source": [
    "# since these constant feature add no value to model lets drop them\n",
    "train_data = train_data.loc[:, train_data.nunique() != 1]"
   ]
  },
  {
   "cell_type": "markdown",
   "id": "af5f3531-6afb-4891-a5b5-480f261ad418",
   "metadata": {},
   "source": [
    "# Feature Engineering"
   ]
  },
  {
   "cell_type": "code",
   "execution_count": 40,
   "id": "4177deaf-1346-4e72-8bfc-7f5313fdfb8c",
   "metadata": {},
   "outputs": [],
   "source": [
    "# seperate featurs and class\n",
    "X = train_data.drop(columns=['CLASS'], errors='ignore')\n",
    "y = train_data['CLASS']"
   ]
  },
  {
   "cell_type": "code",
   "execution_count": null,
   "id": "ebf03bcd-a8d6-494b-b39d-7f709f0c0c92",
   "metadata": {},
   "outputs": [],
   "source": [
    "# # As features are huge, use mutal_info (MI) for feature selection: it measures dependency of featues on class\n",
    "# # calculate mutual information between each feature and the class\n",
    "# # 'discrete_features=\"auto\"' means sklearn will automatically try to guess which features are discrete/categorical\n",
    "# mi = mutual_info_classif(X, y, discrete_features='auto')\n",
    "\n",
    "# # create pand series\n",
    "# mi_series = pd.Series(mi, index=X.columns).sort_values(ascending=False)\n",
    "\n",
    "# print(\"Top 10 features by Mutual Information:\")\n",
    "# print(mi_series.head(10))\n",
    "# print(\"Top 10 less dependent featurs by Mutual Information\")\n",
    "# print(mi_series.tail(10))"
   ]
  },
  {
   "cell_type": "code",
   "execution_count": null,
   "id": "631f641e-05d2-49bc-8a6d-dad82c1ed21e",
   "metadata": {},
   "outputs": [],
   "source": [
    "# # drop features with MI = 0.01\n",
    "# low_mi_features = mi_series[mi_series = 0.01].index\n",
    "# #test_data = test_data.drop(columns=low_mi_features)\n",
    "\n",
    "# print(f\"Dropped {len(low_mi_features)} features with MI = 0.0\")"
   ]
  },
  {
   "cell_type": "markdown",
   "id": "8ee3e935-c9f6-4124-b9c8-9fa34ce625bc",
   "metadata": {},
   "source": [
    "#### Standradrize featurest with standardScalwr"
   ]
  },
  {
   "cell_type": "code",
   "execution_count": 38,
   "id": "2c8f96b4-2f6b-4bda-b8d4-99a49f73ab08",
   "metadata": {},
   "outputs": [],
   "source": [
    "scaler = StandardScaler()"
   ]
  },
  {
   "cell_type": "code",
   "execution_count": 43,
   "id": "8be588c0-a706-4d19-9ba5-a8051fad3e1b",
   "metadata": {},
   "outputs": [
    {
     "name": "stdout",
     "output_type": "stream",
     "text": [
      "2\n"
     ]
    }
   ],
   "source": [
    "print(np.isinf(X).any().sum())  # Total number of columns with inf values"
   ]
  },
  {
   "cell_type": "code",
   "execution_count": 44,
   "id": "5d1cd73d-0ca5-4bd5-9725-2c38faa2f02c",
   "metadata": {},
   "outputs": [
    {
     "name": "stdout",
     "output_type": "stream",
     "text": [
      "Columns with large values:\n",
      " Index(['Feature_72', 'Feature_90', 'Feature_827', 'Feature_843', 'Feature_853',\n",
      "       'Feature_859', 'Feature_866', 'Feature_869', 'Feature_875',\n",
      "       'Feature_882', 'Feature_885', 'Feature_891', 'Feature_898',\n",
      "       'Feature_971', 'Feature_987', 'Feature_1003', 'Feature_1019',\n",
      "       'Feature_2398', 'Feature_2414', 'Feature_2430', 'Feature_2446',\n",
      "       'Feature_2472', 'Feature_2477', 'Feature_2478', 'Feature_2488',\n",
      "       'Feature_2493', 'Feature_2494', 'Feature_2501', 'Feature_2504',\n",
      "       'Feature_2509', 'Feature_2510', 'Feature_2517', 'Feature_2574'],\n",
      "      dtype='object')\n"
     ]
    }
   ],
   "source": [
    "# check columns which have infinete value\n",
    "large_columns = X.columns[X.max() > 1e10]\n",
    "print(\"Columns with large values:\\n\", large_columns)"
   ]
  },
  {
   "cell_type": "code",
   "execution_count": 47,
   "id": "8c6a4fc6-08ca-48a6-b891-002485e3d926",
   "metadata": {},
   "outputs": [
    {
     "name": "stdout",
     "output_type": "stream",
     "text": [
      "       Feature_72  Feature_90   Feature_827   Feature_843   Feature_853  \\\n",
      "count  315.000000  315.000000  3.150000e+02  3.150000e+02  3.150000e+02   \n",
      "mean     0.771761    0.771761  3.824776e+08  1.372714e+11  7.969859e+07   \n",
      "std      4.911687    4.911687  1.295575e+09  5.271794e+11  2.626808e+08   \n",
      "min    -59.000000  -59.000000  9.893812e+03  3.418935e+05  1.203143e+03   \n",
      "25%      0.598649    0.598649  6.120714e+05  6.112737e+07  1.118369e+05   \n",
      "50%      0.891892    0.891892  1.340550e+07  4.492736e+08  8.401063e+05   \n",
      "75%      0.966384    0.966384  1.621021e+08  1.053799e+11  7.028331e+07   \n",
      "max     24.853333   24.853333  9.349100e+09  4.290401e+12  2.206999e+09   \n",
      "\n",
      "        Feature_859   Feature_866   Feature_869   Feature_875   Feature_882  \\\n",
      "count  3.150000e+02  3.150000e+02  3.150000e+02  3.150000e+02  3.150000e+02   \n",
      "mean   8.295904e+10  2.310171e+07  1.245232e+08  3.321335e+10  2.540653e+07   \n",
      "std    2.696072e+11  4.384118e+07  2.925079e+08  7.624835e+10  4.798992e+07   \n",
      "min    1.313361e+06  0.000000e+00  1.036212e+04  2.970589e+06  0.000000e+00   \n",
      "25%    1.221524e+08  1.046905e+05  5.510764e+05  1.520726e+08  5.258345e+05   \n",
      "50%    8.888881e+08  6.678514e+05  3.625139e+06  9.182271e+08  2.265876e+06   \n",
      "75%    7.377536e+10  3.000229e+07  1.381214e+08  3.717473e+10  3.114374e+07   \n",
      "max    2.262438e+12  2.579694e+08  2.254172e+09  5.802717e+11  2.574898e+08   \n",
      "\n",
      "       ...  Feature_2478  Feature_2488  Feature_2493  Feature_2494  \\\n",
      "count  ...  3.150000e+02  3.150000e+02  3.150000e+02  3.150000e+02   \n",
      "mean   ...  3.367357e+08  8.790079e+08  8.720328e+08  9.069084e+08   \n",
      "std    ...  4.198761e+08  1.283689e+09  1.286679e+09  1.273780e+09   \n",
      "min    ...  6.715541e+06  8.219134e+06  5.821829e+06  8.790434e+06   \n",
      "25%    ...  9.837326e+07  1.289195e+08  1.057410e+08  1.690890e+08   \n",
      "50%    ...  1.971955e+08  3.452536e+08  3.365382e+08  3.967039e+08   \n",
      "75%    ...  4.105473e+08  1.226006e+09  1.226006e+09  1.231580e+09   \n",
      "max    ...  2.595745e+09  8.140482e+09  8.140482e+09  8.140482e+09   \n",
      "\n",
      "       Feature_2501  Feature_2504  Feature_2509  Feature_2510  Feature_2517  \\\n",
      "count  3.150000e+02  3.150000e+02  3.150000e+02  3.150000e+02         315.0   \n",
      "mean   9.685278e+07  1.581920e+09  1.581920e+09  1.581920e+09           0.0   \n",
      "std    1.770258e+08  1.579766e+09  1.579766e+09  1.579766e+09           0.0   \n",
      "min    0.000000e+00  2.615231e+07  2.615231e+07  2.615231e+07           0.0   \n",
      "25%    0.000000e+00  5.686103e+08  5.686103e+08  5.686103e+08           0.0   \n",
      "50%    2.192484e+07  1.229905e+09  1.229905e+09  1.229905e+09           0.0   \n",
      "75%    1.012350e+08  2.093063e+09  2.093063e+09  2.093063e+09           0.0   \n",
      "max    9.039440e+08  1.003539e+10  1.003539e+10  1.003539e+10           0.0   \n",
      "\n",
      "       Feature_2574  \n",
      "count  3.150000e+02  \n",
      "mean   1.417688e+07  \n",
      "std    4.254162e+07  \n",
      "min    3.015183e+04  \n",
      "25%    9.854619e+05  \n",
      "50%    2.964545e+06  \n",
      "75%    7.628532e+06  \n",
      "max    3.229434e+08  \n",
      "\n",
      "[8 rows x 33 columns]\n"
     ]
    }
   ],
   "source": [
    "# view large values\n",
    "print(X[large_columns].describe())"
   ]
  },
  {
   "cell_type": "code",
   "execution_count": 46,
   "id": "23b68ce3-2485-4b79-98cf-c9e4e5d13bdd",
   "metadata": {},
   "outputs": [],
   "source": [
    "# cap to the 99th percentile\n",
    "for col in large_columns:\n",
    "    cap_value = X[col].quantile(0.99)\n",
    "    X[col] = X[col].clip(upper=cap_value)"
   ]
  },
  {
   "cell_type": "code",
   "execution_count": 48,
   "id": "7e53d26f-f7e6-4d64-9e2e-4b5ef65f47bd",
   "metadata": {},
   "outputs": [],
   "source": [
    "# apply standardscaler on X data\n",
    "X_scaled = scaler.fit_transform(X)"
   ]
  },
  {
   "cell_type": "code",
   "execution_count": 49,
   "id": "bc363e17-efca-4791-88c2-dcb0b4f951fd",
   "metadata": {},
   "outputs": [],
   "source": [
    "# apply principle component analysis on saled features\n",
    "pca = PCA(n_components=0.98) \n",
    "X_pca = pca.fit_transform(X_scaled)"
   ]
  },
  {
   "cell_type": "code",
   "execution_count": 50,
   "id": "50855d0e-1838-44ff-8b46-1b78670a10e2",
   "metadata": {},
   "outputs": [
    {
     "data": {
      "text/plain": [
       "(315, 91)"
      ]
     },
     "execution_count": 50,
     "metadata": {},
     "output_type": "execute_result"
    }
   ],
   "source": [
    "X_pca.shape"
   ]
  },
  {
   "cell_type": "code",
   "execution_count": 51,
   "id": "2e462496-4dc5-41b9-af85-1f638b478d05",
   "metadata": {},
   "outputs": [],
   "source": [
    "# # save X_pca and class\n",
    "# processed_df = pd.DataFrame(X_pca)\n",
    "# processed_df['CLASS'] = y.values  # Add target column\n",
    "\n",
    "# # save to CSV\n",
    "# processed_df.to_csv(\"tibia_processed_data.csv\", index=False)"
   ]
  },
  {
   "cell_type": "markdown",
   "id": "752b0006-e2fe-4461-9171-c89f7ef0ba3f",
   "metadata": {},
   "source": [
    "# Now applying same preprocess steps on test set and blinded test set"
   ]
  },
  {
   "cell_type": "code",
   "execution_count": 76,
   "id": "4a374e40-311b-47ba-9e9d-e999ec8d67be",
   "metadata": {},
   "outputs": [],
   "source": [
    "test_data= test_data.drop(columns=['ID'])  # 'ID' has no predictive value"
   ]
  },
  {
   "cell_type": "code",
   "execution_count": 77,
   "id": "b24f0c3c-fc1d-4862-ad7a-0612f6c90f0a",
   "metadata": {},
   "outputs": [],
   "source": [
    "blinded_data = blinded_data.drop(columns = ['ID'])  # drop 'ID' column"
   ]
  },
  {
   "cell_type": "code",
   "execution_count": 78,
   "id": "395a105e-2223-4f8e-93af-02aed072e4d1",
   "metadata": {},
   "outputs": [
    {
     "name": "stdout",
     "output_type": "stream",
     "text": [
      "<class 'pandas.core.frame.DataFrame'>\n",
      "RangeIndex: 100 entries, 0 to 99\n",
      "Columns: 3239 entries, Feature_1 to CLASS\n",
      "dtypes: float64(3238), int64(1)\n",
      "memory usage: 2.5 MB\n"
     ]
    }
   ],
   "source": [
    "# get test_data info\n",
    "test_data.info()"
   ]
  },
  {
   "cell_type": "code",
   "execution_count": 79,
   "id": "95db9457-1023-4737-8db0-766149c0b311",
   "metadata": {},
   "outputs": [
    {
     "name": "stdout",
     "output_type": "stream",
     "text": [
      "<class 'pandas.core.frame.DataFrame'>\n",
      "RangeIndex: 36 entries, 0 to 35\n",
      "Columns: 3238 entries, Feature_1 to Feature_3238\n",
      "dtypes: float64(3238)\n",
      "memory usage: 910.8 KB\n"
     ]
    }
   ],
   "source": [
    "# get blinded_data info\n",
    "blinded_data.info()"
   ]
  },
  {
   "cell_type": "markdown",
   "id": "fb0fb2ed-abb8-4940-9f59-b65d0f02a010",
   "metadata": {},
   "source": [
    "## Handling Missing values"
   ]
  },
  {
   "cell_type": "markdown",
   "id": "e4294832-7435-441a-ae16-3fd0ec24ca10",
   "metadata": {},
   "source": [
    "#### Lets delete all columns that are not in train_data"
   ]
  },
  {
   "cell_type": "code",
   "execution_count": 80,
   "id": "e4641b6f-5ca8-43bd-bb10-9accfa4a573f",
   "metadata": {},
   "outputs": [],
   "source": [
    "# keep only columns in test_data that are present in train_data\n",
    "test_data = test_data[train_data.columns.intersection(test_data.columns)]\n",
    "\n",
    "# keep only columns in blinded_data that are present in train_data\n",
    "blinded_data = blinded_data[train_data.columns.intersection(blinded_data.columns)]"
   ]
  },
  {
   "cell_type": "code",
   "execution_count": 81,
   "id": "8a3ac35c-6a8f-43e2-8d0a-f9f63525aa00",
   "metadata": {},
   "outputs": [
    {
     "data": {
      "text/plain": [
       "0"
      ]
     },
     "execution_count": 81,
     "metadata": {},
     "output_type": "execute_result"
    }
   ],
   "source": [
    "# test for column if all value is null in columns\n",
    "test_data.isnull().all().sum()\n",
    "blinded_data.isnull().all().sum()"
   ]
  },
  {
   "cell_type": "code",
   "execution_count": 82,
   "id": "e3f4e6df-a57c-4df9-b8a9-1b03ac607d59",
   "metadata": {},
   "outputs": [
    {
     "data": {
      "text/plain": [
       "16"
      ]
     },
     "execution_count": 82,
     "metadata": {},
     "output_type": "execute_result"
    }
   ],
   "source": [
    "# test if any value is null in column\n",
    "test_data.isnull().any().sum()"
   ]
  },
  {
   "cell_type": "code",
   "execution_count": 83,
   "id": "3369c7d5-10d3-4878-9770-c908271be6f3",
   "metadata": {},
   "outputs": [
    {
     "data": {
      "text/plain": [
       "16"
      ]
     },
     "execution_count": 83,
     "metadata": {},
     "output_type": "execute_result"
    }
   ],
   "source": [
    "# test if any value is null in column\n",
    "blinded_data.isnull().any().sum()"
   ]
  },
  {
   "cell_type": "code",
   "execution_count": 88,
   "id": "d3665e09-712d-4128-a7de-29b4c8096cce",
   "metadata": {},
   "outputs": [],
   "source": [
    "# get columns with null value\n",
    "null_columns = test_data.columns[test_data.isnull().any()]"
   ]
  },
  {
   "cell_type": "code",
   "execution_count": 89,
   "id": "db4a73a1-a51e-406a-8a91-0cf5e5bda025",
   "metadata": {},
   "outputs": [],
   "source": [
    "# filling missing values with median , group by class, apply on both data since all null features are same\n",
    "for col in null_columns:\n",
    "    test_data[col] = test_data[col].fillna(test_data[col].median())\n",
    "    blinded_data[col] = blinded_data[col].fillna(train_data[col].median())"
   ]
  },
  {
   "cell_type": "markdown",
   "id": "0e3b9769-28a4-4bb8-9c8b-0a07c2e9265d",
   "metadata": {},
   "source": [
    "# Feature Engineering"
   ]
  },
  {
   "cell_type": "code",
   "execution_count": 90,
   "id": "0fefa07c-7aea-44d3-908b-ff6dc5fc9892",
   "metadata": {},
   "outputs": [],
   "source": [
    "# seperate featurs and class\n",
    "X_test = test_data.drop(columns=['CLASS'], errors='ignore')\n",
    "y_test = test_data['CLASS']"
   ]
  },
  {
   "cell_type": "code",
   "execution_count": 91,
   "id": "27292b3e-e246-436f-b5e3-41a6a76c06a2",
   "metadata": {},
   "outputs": [],
   "source": [
    "X_blinded = blinded_data"
   ]
  },
  {
   "cell_type": "markdown",
   "id": "bc522823-73b3-4bd9-90ea-3465274d9e58",
   "metadata": {},
   "source": [
    "#### Standradrize featurest with standardScaler"
   ]
  },
  {
   "cell_type": "code",
   "execution_count": 92,
   "id": "5aec2225-31f4-41e0-bf68-f2160b4284a6",
   "metadata": {},
   "outputs": [],
   "source": [
    "X_test_scaled = scaler.transform(X_test)\n",
    "X_blinded_scaled = scaler.transform(X_blinded)"
   ]
  },
  {
   "cell_type": "code",
   "execution_count": 93,
   "id": "49c6f942-d9c2-48da-932f-31f1142c3be5",
   "metadata": {},
   "outputs": [],
   "source": [
    "# apply principle component analysis on saled features\n",
    "\n",
    "# For test data:\n",
    "X_test_pca = pca.transform(X_test_scaled)\n",
    "\n",
    "# For blinded data:\n",
    "X_blinded_pca = pca.transform(X_blinded_scaled)\n"
   ]
  },
  {
   "cell_type": "markdown",
   "id": "a630ae63-5d01-4fa4-aef9-84e4fd71314f",
   "metadata": {},
   "source": [
    "#### Save preprocessed features and class"
   ]
  },
  {
   "cell_type": "code",
   "execution_count": 94,
   "id": "e6553feb-1a95-470d-a317-873004b4efd9",
   "metadata": {},
   "outputs": [],
   "source": [
    "# # save X_test_pca and class\n",
    "# processed_test = pd.DataFrame(X_test_pca)\n",
    "# processed_test['CLASS'] = y_test.values  # Add target column\n",
    "\n",
    "# # save to CSV\n",
    "# processed_test.to_csv(\"tibia_processed_test_data.csv\", index=False)\n",
    "\n",
    "# # save X_blinded data\n",
    "# processed_blinded = pd.DataFrame(X_blinded_pca)\n",
    "# processed_blinded.to_csv(\"processed_blinded.csv\", index = False)"
   ]
  },
  {
   "cell_type": "code",
   "execution_count": null,
   "id": "dbdc2bec-f761-42bf-935f-dd800ea13081",
   "metadata": {},
   "outputs": [],
   "source": []
  }
 ],
 "metadata": {
  "kernelspec": {
   "display_name": "Python 3 (ipykernel)",
   "language": "python",
   "name": "python3"
  },
  "language_info": {
   "codemirror_mode": {
    "name": "ipython",
    "version": 3
   },
   "file_extension": ".py",
   "mimetype": "text/x-python",
   "name": "python",
   "nbconvert_exporter": "python",
   "pygments_lexer": "ipython3",
   "version": "3.12.2"
  }
 },
 "nbformat": 4,
 "nbformat_minor": 5
}
